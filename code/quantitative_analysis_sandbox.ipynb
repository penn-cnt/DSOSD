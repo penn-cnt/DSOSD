{
 "cells": [
  {
   "cell_type": "code",
   "execution_count": 2,
   "metadata": {},
   "outputs": [
    {
     "name": "stderr",
     "output_type": "stream",
     "text": [
      "/mnt/leif/littlab/users/wojemann/stim-seizures/stim_env-3_10/lib64/python3.10/site-packages/tqdm/auto.py:21: TqdmWarning: IProgress not found. Please update jupyter and ipywidgets. See https://ipywidgets.readthedocs.io/en/stable/user_install.html\n",
      "  from .autonotebook import tqdm as notebook_tqdm\n"
     ]
    }
   ],
   "source": [
    "# Standard imports\n",
    "import numpy as np\n",
    "import pandas as pd\n",
    "import json\n",
    "import seaborn as sns\n",
    "import matplotlib.pyplot as plt\n",
    "from mpl_toolkits.axes_grid1 import make_axes_locatable\n",
    "from ieeg.auth import Session\n",
    "from scipy import signal as sig\n",
    "from scipy.integrate import simpson\n",
    "from scipy.signal import coherence\n",
    "from scipy.spatial.distance import pdist, squareform,cdist\n",
    "from scipy.optimize import minimize\n",
    "\n",
    "import scipy as sc\n",
    "from bct.algorithms import community_louvain\n",
    "plt.rcParams['image.cmap'] = 'BuPu'\n",
    "\n",
    "# ML Imports\n",
    "from sklearn.gaussian_process import GaussianProcessRegressor as GPR\n",
    "from sklearn.gaussian_process.kernels import RBF,ConstantKernel\n",
    "from sklearn.linear_model import LinearRegression\n",
    "from sklearn.preprocessing import normalize\n",
    "from sklearn.decomposition import NMF\n",
    "from sklearn.utils import resample\n",
    "\n",
    "# OS imports\n",
    "import os\n",
    "from os.path import join as ospj\n",
    "from os.path import exists as ospe\n",
    "import pathlib\n",
    "from tqdm import tqdm\n",
    "from pqdm.processes import pqdm\n",
    "from utils import *\n",
    "import sys\n",
    "sys.path.append('/users/wojemann/iEEG_processing')\n",
    "import mne\n",
    "\n",
    "import os\n",
    "os.environ[\"ETS_TOOLKIT\"] = \"qt4\"\n",
    "os.environ[\"QT_API\"] = \"pyqt5\""
   ]
  },
  {
   "attachments": {},
   "cell_type": "markdown",
   "metadata": {},
   "source": [
    "### Data Loading"
   ]
  },
  {
   "cell_type": "code",
   "execution_count": 3,
   "metadata": {},
   "outputs": [],
   "source": [
    "metadata = pd.read_csv('../metadata_wchreject.csv')\n",
    "# (metadata.cceps_hfs_seizure == 1) | \n",
    "metadata = metadata[(metadata.cceps_run1_sz == 1)].reset_index()\n",
    "metadata.loc[:,'ieeg_id'] = 'HUP' + metadata.hupsubjno.apply(str) + '_phaseII'\n",
    "metadata.loc[:,'ccep_id'] = 'HUP' + metadata.hupsubjno.apply(str) + '_CCEP'"
   ]
  },
  {
   "cell_type": "code",
   "execution_count": 4,
   "metadata": {},
   "outputs": [],
   "source": [
    "with open('config.json','r') as f:\n",
    "    CONFIG = json.load(f)\n",
    "usr = CONFIG[\"paths\"][\"iEEG_USR\"]\n",
    "passpath = CONFIG[\"paths\"][\"iEEG_PWD\"]\n",
    "datapath = CONFIG[\"paths\"][\"RAW_DATA\"]\n",
    "prodatapath = CONFIG[\"paths\"][\"PROCESSED_DATA\"]\n",
    "ieeg_list = CONFIG[\"patients\"]\n",
    "rid_hup = pd.read_csv(ospj(datapath,'rid_hup.csv'))\n",
    "pt_list = np.unique(np.array([i.split(\"_\")[0] for i in ieeg_list]))"
   ]
  },
  {
   "cell_type": "code",
   "execution_count": 5,
   "metadata": {},
   "outputs": [],
   "source": [
    "pt = \"HUP235\"\n",
    "raw_datapath = ospj(datapath,pt)\n"
   ]
  },
  {
   "cell_type": "code",
   "execution_count": 6,
   "metadata": {},
   "outputs": [],
   "source": [
    "dirty_drop_electrodes = metadata[metadata.hupsubjno == int(pt[-3:])][\"final_reject_channels\"].str.split(',').to_list()[0]\n",
    "if isinstance(dirty_drop_electrodes,list):\n",
    "        final_drop_electrodes = clean_labels(dirty_drop_electrodes,pt)\n",
    "else:\n",
    "    final_drop_electrodes = []"
   ]
  },
  {
   "cell_type": "code",
   "execution_count": 7,
   "metadata": {},
   "outputs": [],
   "source": [
    "seizure_list = np.sort([s for s in os.listdir(ospj(raw_datapath, \"seizures\")) if 'preprocessed' in s])"
   ]
  },
  {
   "cell_type": "code",
   "execution_count": 8,
   "metadata": {},
   "outputs": [
    {
     "data": {
      "text/plain": [
       "array(['preprocessed_seizure_0_stim_1.pkl',\n",
       "       'preprocessed_seizure_10_stim_0.pkl',\n",
       "       'preprocessed_seizure_11_stim_0.pkl',\n",
       "       'preprocessed_seizure_1_stim_0.pkl',\n",
       "       'preprocessed_seizure_2_stim_0.pkl',\n",
       "       'preprocessed_seizure_3_stim_0.pkl',\n",
       "       'preprocessed_seizure_4_stim_0.pkl',\n",
       "       'preprocessed_seizure_5_stim_0.pkl',\n",
       "       'preprocessed_seizure_6_stim_0.pkl',\n",
       "       'preprocessed_seizure_7_stim_0.pkl',\n",
       "       'preprocessed_seizure_8_stim_0.pkl',\n",
       "       'preprocessed_seizure_9_stim_2.pkl'], dtype='<U34')"
      ]
     },
     "execution_count": 8,
     "metadata": {},
     "output_type": "execute_result"
    }
   ],
   "source": [
    "seizure_list"
   ]
  },
  {
   "cell_type": "code",
   "execution_count": 9,
   "metadata": {},
   "outputs": [],
   "source": [
    "all_seizures = []\n",
    "all_ts = []\n",
    "for seizure_path in seizure_list:\n",
    "    seizure_fs = pd.read_pickle(ospj(raw_datapath,\"seizures\",seizure_path))\n",
    "    fs = seizure_fs.fs.to_numpy()[-1]\n",
    "    seizure = seizure_fs.drop(\"fs\",axis=1)\n",
    "    cols = seizure.columns.to_list()\n",
    "    clean_ch = [c for c in cols if c not in final_drop_electrodes]\n",
    "    seizure = seizure.loc[:,clean_ch]\n",
    "    t = np.arange(0,len(seizure)/fs,1/fs)\n",
    "    all_ts.append(t)\n",
    "    all_seizures.append(seizure)\n",
    "    # plot_iEEG_data(seizure,t)\n"
   ]
  },
  {
   "attachments": {},
   "cell_type": "markdown",
   "metadata": {},
   "source": [
    "### Sandboxing DTW"
   ]
  },
  {
   "attachments": {},
   "cell_type": "markdown",
   "metadata": {},
   "source": [
    "#### Coh Generation"
   ]
  },
  {
   "cell_type": "code",
   "execution_count": 25,
   "metadata": {},
   "outputs": [
    {
     "name": "stdout",
     "output_type": "stream",
     "text": [
      "[[1.00000000e+00 3.73960505e-03]\n",
      " [2.00000000e+00 1.55701825e-02]\n",
      " [3.00000000e+00 2.62148008e-02]\n",
      " [4.00000000e+00 1.70438469e-02]\n",
      " [5.00000000e+00 4.64089588e-02]\n",
      " [6.00000000e+00 4.98411573e-02]\n",
      " [7.00000000e+00 6.63400011e-02]\n",
      " [8.00000000e+00 5.72068327e-02]\n",
      " [9.00000000e+00 4.76136330e-02]\n",
      " [1.00000000e+01 6.58744940e-02]\n",
      " [1.10000000e+01 9.24054340e-02]\n",
      " [1.20000000e+01 9.87024972e-02]\n",
      " [1.30000000e+01 9.15446394e-02]\n",
      " [1.40000000e+01 9.25029287e-02]\n",
      " [1.50000000e+01 9.54893027e-02]\n",
      " [1.60000000e+01 9.96013350e-02]\n",
      " [1.70000000e+01 1.03715131e-01]\n",
      " [1.80000000e+01 1.08775284e-01]\n",
      " [1.90000000e+01 1.18437436e-01]\n",
      " [2.00000000e+01 1.20243932e-01]\n",
      " [2.10000000e+01 1.27848680e-01]\n",
      " [2.20000000e+01 1.42120508e-01]\n",
      " [2.30000000e+01 1.58284180e-01]\n",
      " [2.40000000e+01 1.67582157e-01]\n",
      " [2.50000000e+01 1.76983245e-01]\n",
      " [2.60000000e+01 1.96848838e-01]\n",
      " [2.70000000e+01 2.06054618e-01]\n",
      " [2.80000000e+01 2.22503145e-01]\n",
      " [2.90000000e+01 2.29270101e-01]\n",
      " [3.00000000e+01 2.43480386e-01]]\n"
     ]
    },
    {
     "data": {
      "image/png": "[encoded data removed]",
      "text/plain": [
       "<Figure size 640x480 with 1 Axes>"
      ]
     },
     "metadata": {},
     "output_type": "display_data"
    }
   ],
   "source": [
    "with open(ospj(prodatapath,f'stability_score_test.pkl'),'rb') as f:\n",
    "    stability_scores = pickle.load(f)\n",
    "scores = np.array(stability_scores)\n",
    "plt.plot(scores[:,0],scores[:,1])\n",
    "print(scores)"
   ]
  },
  {
   "cell_type": "code",
   "execution_count": 11,
   "metadata": {},
   "outputs": [],
   "source": [
    "data = all_seizures[0]\n",
    "factor = 2\n",
    "win_len = 10\n",
    "stride = 1"
   ]
  },
  {
   "cell_type": "code",
   "execution_count": 12,
   "metadata": {},
   "outputs": [
    {
     "name": "stderr",
     "output_type": "stream",
     "text": [
      "100%|██████████| 57/57 [13:29<00:00, 14.19s/it]\n"
     ]
    }
   ],
   "source": [
    "data = sig.decimate(data,factor,axis=0)\n",
    "data = pd.DataFrame(data,columns=all_seizures[1].columns)\n",
    "nfs = fs/factor\n",
    "\n",
    "# Simulate a DataFrame\n",
    "n_channels = data.shape[1]\n",
    "m_samples = data.shape[0]\n",
    "\n",
    "# Define frequency bands\n",
    "freq_bands = [(1, 4), (4, 8), (8, 13), (13, 30), (30, 80), (80, 150)]\n",
    "\n",
    "# Window parameters\n",
    "window_length = int(win_len * nfs)\n",
    "stride = int(stride*nfs)\n",
    "\n",
    "# Initialize lists to hold results\n",
    "all_coherences = []\n",
    "\n",
    "# Loop through each window\n",
    "for start in tqdm(range(0, m_samples - window_length + 1, stride)):\n",
    "    window_data = data.iloc[start:start + window_length]\n",
    "    coherence_matrix_list = []\n",
    "    \n",
    "    for low_f, high_f in freq_bands:\n",
    "        coherences = []\n",
    "        for i in range(n_channels):\n",
    "            for j in range(i+1, n_channels):\n",
    "                f, Cxy = coherence(window_data.iloc[:, i], window_data.iloc[:, j], fs=fs)\n",
    "                avg_coh = np.mean(Cxy[(f >= low_f) & (f <= high_f)])\n",
    "                coherences.append(avg_coh)\n",
    "        \n",
    "        coherence_matrix_list.append(np.array(coherences))\n",
    "    \n",
    "    concatenated_coherence = np.concatenate(coherence_matrix_list)\n",
    "    all_coherences.append(concatenated_coherence)\n",
    "# Convert to NumPy array and L1 normalize\n",
    "all_coherences = np.array(all_coherences)\n",
    "all_coherences = normalize(all_coherences, norm='l1', axis=1)"
   ]
  },
  {
   "cell_type": "code",
   "execution_count": 78,
   "metadata": {},
   "outputs": [],
   "source": [
    "# with open(ospj(prodatapath,f'all_coh_test_stim.pkl'),'wb') as f:\n",
    "#     pickle.dump(all_coherences,f)\n",
    "with open(ospj(prodatapath,f'all_coh_test_stim.pkl'),'rb') as f:\n",
    "    all_coherences = pickle.load(f)"
   ]
  },
  {
   "cell_type": "code",
   "execution_count": 114,
   "metadata": {},
   "outputs": [],
   "source": [
    "def _ccorr(X,Y):\n",
    "            s = X.shape[1]\n",
    "            out_mat = np.zeros((s,s))\n",
    "            for x_i in range(s):\n",
    "                for y_i in range(s):\n",
    "                    c = np.corrcoef(X[:,x_i],Y[:,y_i])\n",
    "                    out_mat[x_i,y_i] = c[0,1]\n",
    "            return out_mat\n",
    "\n",
    "_dissimilarity = lambda C,k: 1/(2*k)*(2*k - np.sum(np.max(C,axis=0)) - np.sum(np.max(C,axis=1)))\n",
    "\n",
    "def stability_nmf(all_coherences,n_bootstrap=100,k_min = 5, k_max = 20):\n",
    "    stability_scores = []\n",
    "\n",
    "    for k in range(k_min, k_max + 1):\n",
    "        D_list = []\n",
    "        l_list = []\n",
    "        for _ in range(int(n_bootstrap)):\n",
    "            # Bootstrap resampling\n",
    "            bootstrap_data = resample(all_coherences)\n",
    "            \n",
    "            # Perform NMF on bootstrap sample\n",
    "            model = NMF(n_components=k, init='random', random_state=0)\n",
    "            model.fit(bootstrap_data)\n",
    "            D = model.components_\n",
    "            l = model.reconstruction_err_\n",
    "\n",
    "            # Sort each component by size and store\n",
    "            D_list.append(D.T)\n",
    "            l_list.append(l)\n",
    "            \n",
    "        D_array = np.array(D_list)\n",
    "        # Calculate dissimilarity across Bootstraps\n",
    "       \n",
    "        # Cross-corr between columns of two different matrices\n",
    "        \n",
    "        # calculate dissimilarity for each combination of dictionaries at this k value\n",
    "        diss_mat = np.zeros((n_bootstrap,n_bootstrap))\n",
    "        for d_i in range(n_bootstrap):\n",
    "            for d_j in range(n_bootstrap):\n",
    "                C = _ccorr(D_array[d_i],D_array[d_j])\n",
    "                diss_mat[d_i,d_j] = _dissimilarity(C,k)\n",
    "\n",
    "        stability_score = np.mean(diss_mat[~np.eye(n_bootstrap,dtype=bool)])\n",
    "        print(k,stability_score)\n",
    "        stability_scores.append(stability_score)\n",
    "\n",
    "    # Identify the number of components that gives the minimum stability score\n",
    "    optimal_k = np.argmin(stability_scores) + 1\n",
    "    model = NMF(n_components=optimal_k, init='random', random_state=0)\n",
    "    W_optimal = model.fit_transform(all_coherences)\n",
    "    H_optimal = model.components_\n",
    "    recon_cohs = normalize(W_optimal@H_optimal,'l1',axis=1)\n",
    "    return recon_cohs"
   ]
  },
  {
   "cell_type": "code",
   "execution_count": 115,
   "metadata": {},
   "outputs": [
    {
     "name": "stdout",
     "output_type": "stream",
     "text": [
      "1 0.005126308627390662\n",
      "2 0.028176076662463783\n",
      "3 0.00925388085405893\n"
     ]
    },
    {
     "data": {
      "text/plain": [
       "array([[7.11371140e-05, 5.88549713e-05, 6.39972530e-05, ...,\n",
       "        1.85845059e-04, 1.32685179e-04, 1.69627899e-04],\n",
       "       [7.11371140e-05, 5.88549713e-05, 6.39972530e-05, ...,\n",
       "        1.85845059e-04, 1.32685179e-04, 1.69627899e-04],\n",
       "       [7.11371140e-05, 5.88549713e-05, 6.39972530e-05, ...,\n",
       "        1.85845059e-04, 1.32685179e-04, 1.69627899e-04],\n",
       "       ...,\n",
       "       [7.11371140e-05, 5.88549713e-05, 6.39972530e-05, ...,\n",
       "        1.85845059e-04, 1.32685179e-04, 1.69627899e-04],\n",
       "       [7.11371140e-05, 5.88549713e-05, 6.39972530e-05, ...,\n",
       "        1.85845059e-04, 1.32685179e-04, 1.69627899e-04],\n",
       "       [7.11371140e-05, 5.88549713e-05, 6.39972530e-05, ...,\n",
       "        1.85845059e-04, 1.32685179e-04, 1.69627899e-04]])"
      ]
     },
     "execution_count": 115,
     "metadata": {},
     "output_type": "execute_result"
    }
   ],
   "source": [
    "stability_nmf(all_coherences,n_bootstrap=10,k_min=1,k_max=3)"
   ]
  },
  {
   "cell_type": "code",
   "execution_count": 113,
   "metadata": {},
   "outputs": [
    {
     "name": "stdout",
     "output_type": "stream",
     "text": [
      "1 0.007466576273210816\n"
     ]
    },
    {
     "ename": "KeyboardInterrupt",
     "evalue": "",
     "output_type": "error",
     "traceback": [
      "\u001b[0;31m---------------------------------------------------------------------------\u001b[0m",
      "\u001b[0;31mKeyboardInterrupt\u001b[0m                         Traceback (most recent call last)",
      "Cell \u001b[0;32mIn[113], line 15\u001b[0m\n\u001b[1;32m     13\u001b[0m \u001b[39m# Perform NMF on bootstrap sample\u001b[39;00m\n\u001b[1;32m     14\u001b[0m model \u001b[39m=\u001b[39m NMF(n_components\u001b[39m=\u001b[39mk, init\u001b[39m=\u001b[39m\u001b[39m'\u001b[39m\u001b[39mrandom\u001b[39m\u001b[39m'\u001b[39m, random_state\u001b[39m=\u001b[39m\u001b[39m0\u001b[39m)\n\u001b[0;32m---> 15\u001b[0m model\u001b[39m.\u001b[39;49mfit(bootstrap_data)\n\u001b[1;32m     16\u001b[0m D \u001b[39m=\u001b[39m model\u001b[39m.\u001b[39mcomponents_\n\u001b[1;32m     17\u001b[0m l \u001b[39m=\u001b[39m model\u001b[39m.\u001b[39mreconstruction_err_\n",
      "File \u001b[0;32m/mnt/leif/littlab/users/wojemann/stim-seizures/stim_env-3_10/lib64/python3.10/site-packages/sklearn/decomposition/_nmf.py:1255\u001b[0m, in \u001b[0;36m_BaseNMF.fit\u001b[0;34m(self, X, y, **params)\u001b[0m\n\u001b[1;32m   1233\u001b[0m \u001b[39m\u001b[39m\u001b[39m\"\"\"Learn a NMF model for the data X.\u001b[39;00m\n\u001b[1;32m   1234\u001b[0m \n\u001b[1;32m   1235\u001b[0m \u001b[39mParameters\u001b[39;00m\n\u001b[0;32m   (...)\u001b[0m\n\u001b[1;32m   1251\u001b[0m \u001b[39m    Returns the instance itself.\u001b[39;00m\n\u001b[1;32m   1252\u001b[0m \u001b[39m\"\"\"\u001b[39;00m\n\u001b[1;32m   1253\u001b[0m \u001b[39m# param validation is done in fit_transform\u001b[39;00m\n\u001b[0;32m-> 1255\u001b[0m \u001b[39mself\u001b[39;49m\u001b[39m.\u001b[39;49mfit_transform(X, \u001b[39m*\u001b[39;49m\u001b[39m*\u001b[39;49mparams)\n\u001b[1;32m   1256\u001b[0m \u001b[39mreturn\u001b[39;00m \u001b[39mself\u001b[39m\n",
      "File \u001b[0;32m/mnt/leif/littlab/users/wojemann/stim-seizures/stim_env-3_10/lib64/python3.10/site-packages/sklearn/utils/_set_output.py:140\u001b[0m, in \u001b[0;36m_wrap_method_output.<locals>.wrapped\u001b[0;34m(self, X, *args, **kwargs)\u001b[0m\n\u001b[1;32m    138\u001b[0m \u001b[39m@wraps\u001b[39m(f)\n\u001b[1;32m    139\u001b[0m \u001b[39mdef\u001b[39;00m \u001b[39mwrapped\u001b[39m(\u001b[39mself\u001b[39m, X, \u001b[39m*\u001b[39margs, \u001b[39m*\u001b[39m\u001b[39m*\u001b[39mkwargs):\n\u001b[0;32m--> 140\u001b[0m     data_to_wrap \u001b[39m=\u001b[39m f(\u001b[39mself\u001b[39;49m, X, \u001b[39m*\u001b[39;49margs, \u001b[39m*\u001b[39;49m\u001b[39m*\u001b[39;49mkwargs)\n\u001b[1;32m    141\u001b[0m     \u001b[39mif\u001b[39;00m \u001b[39misinstance\u001b[39m(data_to_wrap, \u001b[39mtuple\u001b[39m):\n\u001b[1;32m    142\u001b[0m         \u001b[39m# only wrap the first output for cross decomposition\u001b[39;00m\n\u001b[1;32m    143\u001b[0m         return_tuple \u001b[39m=\u001b[39m (\n\u001b[1;32m    144\u001b[0m             _wrap_data_with_container(method, data_to_wrap[\u001b[39m0\u001b[39m], X, \u001b[39mself\u001b[39m),\n\u001b[1;32m    145\u001b[0m             \u001b[39m*\u001b[39mdata_to_wrap[\u001b[39m1\u001b[39m:],\n\u001b[1;32m    146\u001b[0m         )\n",
      "File \u001b[0;32m/mnt/leif/littlab/users/wojemann/stim-seizures/stim_env-3_10/lib64/python3.10/site-packages/sklearn/base.py:1151\u001b[0m, in \u001b[0;36m_fit_context.<locals>.decorator.<locals>.wrapper\u001b[0;34m(estimator, *args, **kwargs)\u001b[0m\n\u001b[1;32m   1144\u001b[0m     estimator\u001b[39m.\u001b[39m_validate_params()\n\u001b[1;32m   1146\u001b[0m \u001b[39mwith\u001b[39;00m config_context(\n\u001b[1;32m   1147\u001b[0m     skip_parameter_validation\u001b[39m=\u001b[39m(\n\u001b[1;32m   1148\u001b[0m         prefer_skip_nested_validation \u001b[39mor\u001b[39;00m global_skip_validation\n\u001b[1;32m   1149\u001b[0m     )\n\u001b[1;32m   1150\u001b[0m ):\n\u001b[0;32m-> 1151\u001b[0m     \u001b[39mreturn\u001b[39;00m fit_method(estimator, \u001b[39m*\u001b[39;49margs, \u001b[39m*\u001b[39;49m\u001b[39m*\u001b[39;49mkwargs)\n",
      "File \u001b[0;32m/mnt/leif/littlab/users/wojemann/stim-seizures/stim_env-3_10/lib64/python3.10/site-packages/sklearn/decomposition/_nmf.py:1606\u001b[0m, in \u001b[0;36mNMF.fit_transform\u001b[0;34m(self, X, y, W, H)\u001b[0m\n\u001b[1;32m   1601\u001b[0m X \u001b[39m=\u001b[39m \u001b[39mself\u001b[39m\u001b[39m.\u001b[39m_validate_data(\n\u001b[1;32m   1602\u001b[0m     X, accept_sparse\u001b[39m=\u001b[39m(\u001b[39m\"\u001b[39m\u001b[39mcsr\u001b[39m\u001b[39m\"\u001b[39m, \u001b[39m\"\u001b[39m\u001b[39mcsc\u001b[39m\u001b[39m\"\u001b[39m), dtype\u001b[39m=\u001b[39m[np\u001b[39m.\u001b[39mfloat64, np\u001b[39m.\u001b[39mfloat32]\n\u001b[1;32m   1603\u001b[0m )\n\u001b[1;32m   1605\u001b[0m \u001b[39mwith\u001b[39;00m config_context(assume_finite\u001b[39m=\u001b[39m\u001b[39mTrue\u001b[39;00m):\n\u001b[0;32m-> 1606\u001b[0m     W, H, n_iter \u001b[39m=\u001b[39m \u001b[39mself\u001b[39;49m\u001b[39m.\u001b[39;49m_fit_transform(X, W\u001b[39m=\u001b[39;49mW, H\u001b[39m=\u001b[39;49mH)\n\u001b[1;32m   1608\u001b[0m \u001b[39mself\u001b[39m\u001b[39m.\u001b[39mreconstruction_err_ \u001b[39m=\u001b[39m _beta_divergence(\n\u001b[1;32m   1609\u001b[0m     X, W, H, \u001b[39mself\u001b[39m\u001b[39m.\u001b[39m_beta_loss, square_root\u001b[39m=\u001b[39m\u001b[39mTrue\u001b[39;00m\n\u001b[1;32m   1610\u001b[0m )\n\u001b[1;32m   1612\u001b[0m \u001b[39mself\u001b[39m\u001b[39m.\u001b[39mn_components_ \u001b[39m=\u001b[39m H\u001b[39m.\u001b[39mshape[\u001b[39m0\u001b[39m]\n",
      "File \u001b[0;32m/mnt/leif/littlab/users/wojemann/stim-seizures/stim_env-3_10/lib64/python3.10/site-packages/sklearn/decomposition/_nmf.py:1676\u001b[0m, in \u001b[0;36mNMF._fit_transform\u001b[0;34m(self, X, y, W, H, update_H)\u001b[0m\n\u001b[1;32m   1673\u001b[0m l1_reg_W, l1_reg_H, l2_reg_W, l2_reg_H \u001b[39m=\u001b[39m \u001b[39mself\u001b[39m\u001b[39m.\u001b[39m_compute_regularization(X)\n\u001b[1;32m   1675\u001b[0m \u001b[39mif\u001b[39;00m \u001b[39mself\u001b[39m\u001b[39m.\u001b[39msolver \u001b[39m==\u001b[39m \u001b[39m\"\u001b[39m\u001b[39mcd\u001b[39m\u001b[39m\"\u001b[39m:\n\u001b[0;32m-> 1676\u001b[0m     W, H, n_iter \u001b[39m=\u001b[39m _fit_coordinate_descent(\n\u001b[1;32m   1677\u001b[0m         X,\n\u001b[1;32m   1678\u001b[0m         W,\n\u001b[1;32m   1679\u001b[0m         H,\n\u001b[1;32m   1680\u001b[0m         \u001b[39mself\u001b[39;49m\u001b[39m.\u001b[39;49mtol,\n\u001b[1;32m   1681\u001b[0m         \u001b[39mself\u001b[39;49m\u001b[39m.\u001b[39;49mmax_iter,\n\u001b[1;32m   1682\u001b[0m         l1_reg_W,\n\u001b[1;32m   1683\u001b[0m         l1_reg_H,\n\u001b[1;32m   1684\u001b[0m         l2_reg_W,\n\u001b[1;32m   1685\u001b[0m         l2_reg_H,\n\u001b[1;32m   1686\u001b[0m         update_H\u001b[39m=\u001b[39;49mupdate_H,\n\u001b[1;32m   1687\u001b[0m         verbose\u001b[39m=\u001b[39;49m\u001b[39mself\u001b[39;49m\u001b[39m.\u001b[39;49mverbose,\n\u001b[1;32m   1688\u001b[0m         shuffle\u001b[39m=\u001b[39;49m\u001b[39mself\u001b[39;49m\u001b[39m.\u001b[39;49mshuffle,\n\u001b[1;32m   1689\u001b[0m         random_state\u001b[39m=\u001b[39;49m\u001b[39mself\u001b[39;49m\u001b[39m.\u001b[39;49mrandom_state,\n\u001b[1;32m   1690\u001b[0m     )\n\u001b[1;32m   1691\u001b[0m \u001b[39melif\u001b[39;00m \u001b[39mself\u001b[39m\u001b[39m.\u001b[39msolver \u001b[39m==\u001b[39m \u001b[39m\"\u001b[39m\u001b[39mmu\u001b[39m\u001b[39m\"\u001b[39m:\n\u001b[1;32m   1692\u001b[0m     W, H, n_iter, \u001b[39m*\u001b[39m_ \u001b[39m=\u001b[39m _fit_multiplicative_update(\n\u001b[1;32m   1693\u001b[0m         X,\n\u001b[1;32m   1694\u001b[0m         W,\n\u001b[0;32m   (...)\u001b[0m\n\u001b[1;32m   1704\u001b[0m         \u001b[39mself\u001b[39m\u001b[39m.\u001b[39mverbose,\n\u001b[1;32m   1705\u001b[0m     )\n",
      "File \u001b[0;32m/mnt/leif/littlab/users/wojemann/stim-seizures/stim_env-3_10/lib64/python3.10/site-packages/sklearn/decomposition/_nmf.py:502\u001b[0m, in \u001b[0;36m_fit_coordinate_descent\u001b[0;34m(X, W, H, tol, max_iter, l1_reg_W, l1_reg_H, l2_reg_W, l2_reg_H, update_H, verbose, shuffle, random_state)\u001b[0m\n\u001b[1;32m    500\u001b[0m \u001b[39m# Update H\u001b[39;00m\n\u001b[1;32m    501\u001b[0m \u001b[39mif\u001b[39;00m update_H:\n\u001b[0;32m--> 502\u001b[0m     violation \u001b[39m+\u001b[39m\u001b[39m=\u001b[39m _update_coordinate_descent(\n\u001b[1;32m    503\u001b[0m         X\u001b[39m.\u001b[39;49mT, Ht, W, l1_reg_H, l2_reg_H, shuffle, rng\n\u001b[1;32m    504\u001b[0m     )\n\u001b[1;32m    506\u001b[0m \u001b[39mif\u001b[39;00m n_iter \u001b[39m==\u001b[39m \u001b[39m1\u001b[39m:\n\u001b[1;32m    507\u001b[0m     violation_init \u001b[39m=\u001b[39m violation\n",
      "File \u001b[0;32m/mnt/leif/littlab/users/wojemann/stim-seizures/stim_env-3_10/lib64/python3.10/site-packages/sklearn/decomposition/_nmf.py:397\u001b[0m, in \u001b[0;36m_update_coordinate_descent\u001b[0;34m(X, W, Ht, l1_reg, l2_reg, shuffle, random_state)\u001b[0m\n\u001b[1;32m    395\u001b[0m     permutation \u001b[39m=\u001b[39m random_state\u001b[39m.\u001b[39mpermutation(n_components)\n\u001b[1;32m    396\u001b[0m \u001b[39melse\u001b[39;00m:\n\u001b[0;32m--> 397\u001b[0m     permutation \u001b[39m=\u001b[39m np\u001b[39m.\u001b[39;49marange(n_components)\n\u001b[1;32m    398\u001b[0m \u001b[39m# The following seems to be required on 64-bit Windows w/ Python 3.5.\u001b[39;00m\n\u001b[1;32m    399\u001b[0m permutation \u001b[39m=\u001b[39m np\u001b[39m.\u001b[39masarray(permutation, dtype\u001b[39m=\u001b[39mnp\u001b[39m.\u001b[39mintp)\n",
      "\u001b[0;31mKeyboardInterrupt\u001b[0m: "
     ]
    }
   ],
   "source": [
    "# Stability-based NMF\n",
    "n_bootstrap = 50  # Number of bootstrap samples\n",
    "max_components = 7  # Maximum number of components to test\n",
    "stability_scores = []\n",
    "\n",
    "for k in range(1, max_components + 1):\n",
    "    D_list = []\n",
    "    l_list = []\n",
    "    for _ in range(int(n_bootstrap)):\n",
    "        # Bootstrap resampling\n",
    "        bootstrap_data = resample(all_coherences)\n",
    "        \n",
    "        # Perform NMF on bootstrap sample\n",
    "        model = NMF(n_components=k, init='random', random_state=0)\n",
    "        model.fit(bootstrap_data)\n",
    "        D = model.components_\n",
    "        l = model.reconstruction_err_\n",
    "\n",
    "        # Sort each component by size and store\n",
    "        D_list.append(D.T)\n",
    "        l_list.append(l)\n",
    "        \n",
    "    D_array = np.array(D_list)\n",
    "    # Calculate dissimilarity across Bootstraps\n",
    "    _diss = lambda C,k: 1/(2*k)*(2*k - np.sum(np.max(C,axis=0)) - np.sum(np.max(C,axis=1)))\n",
    "    # Cross-corr between columns of two different matrices\n",
    "    def _ccorr(X,Y):\n",
    "        s = X.shape[1]\n",
    "        out_mat = np.zeros((s,s))\n",
    "        for x_i in range(s):\n",
    "            for y_i in range(s):\n",
    "                c = np.corrcoef(X[:,x_i],Y[:,y_i])\n",
    "                out_mat[x_i,y_i] = c[0,1]\n",
    "        return out_mat\n",
    "    # calculate dissimilarity for each combination of dictionaries at this k value\n",
    "    diss_mat = np.zeros((n_bootstrap,n_bootstrap))\n",
    "    for d_i in range(n_bootstrap):\n",
    "        for d_j in range(n_bootstrap):\n",
    "            C = _ccorr(D_array[d_i],D_array[d_j])\n",
    "            diss_mat[d_i,d_j] = _diss(C,k)\n",
    "\n",
    "    stability_score = np.mean(diss_mat[~np.eye(n_bootstrap,dtype=bool)])\n",
    "    print(k,stability_score)\n",
    "    stability_scores.append(stability_score)\n",
    "\n",
    "# Identify the number of components that gives the minimum stability score\n",
    "optimal_k = np.argmin(stability_scores) + 1"
   ]
  },
  {
   "cell_type": "code",
   "execution_count": 105,
   "metadata": {},
   "outputs": [],
   "source": [
    "\n",
    "# Perform NMF with optimal number of components\n",
    "optimal_k = 2\n",
    "model = NMF(n_components=optimal_k, init='random', random_state=0)\n",
    "W_optimal = model.fit_transform(all_coherences)\n",
    "H_optimal = model.components_"
   ]
  },
  {
   "cell_type": "code",
   "execution_count": 106,
   "metadata": {},
   "outputs": [],
   "source": [
    "manual_cohs = normalize(W_optimal@H_optimal,'l1',axis=1)"
   ]
  },
  {
   "attachments": {},
   "cell_type": "markdown",
   "metadata": {},
   "source": [
    "#### Coh Analysis"
   ]
  },
  {
   "cell_type": "code",
   "execution_count": 107,
   "metadata": {},
   "outputs": [],
   "source": [
    "# with open(ospj(prodatapath,pt,f'{pt}_seizure_networks.pkl'),'rb') as f:\n",
    "#     coh_struct = pickle.load(f)\n",
    "# with open(ospj(prodatapath,pt,f'script_test_networks.pkl'),'rb') as f:\n",
    "#         test_cohs= pickle.load(f)"
   ]
  },
  {
   "cell_type": "code",
   "execution_count": 108,
   "metadata": {},
   "outputs": [],
   "source": [
    "# coh_struct\n",
    "# [i[0] for i in coh_struct['seizure_networks']]\n",
    "# recon_cohs = [i[1] for i in coh_struct['seizure_networks']]"
   ]
  },
  {
   "attachments": {},
   "cell_type": "markdown",
   "metadata": {},
   "source": [
    "#### MDS Coh Plotting"
   ]
  },
  {
   "cell_type": "code",
   "execution_count": 109,
   "metadata": {},
   "outputs": [],
   "source": [
    "def sammon(X, max_iter=1e10, tol=1e-5):\n",
    "    pairwise_dissimilarities = squareform(pdist(X, metric='cityblock'))  # Using L1 distance\n",
    "    plt.imshow(pairwise_dissimilarities)\n",
    "    init = np.random.rand(X.shape[0], 2)  # Random 2D initialization\n",
    "    \n",
    "    def stress(Y):\n",
    "        Y = Y.reshape((X.shape[0], 2))\n",
    "        d = squareform(pdist(Y))\n",
    "        d[d == 0] = 1  # Prevent division by zero\n",
    "        ratio = pairwise_dissimilarities / d\n",
    "        return np.sum((pairwise_dissimilarities - d)**2 * ratio)\n",
    "    \n",
    "    res = minimize(stress, init.ravel(), method='L-BFGS-B', tol=tol, options={'maxiter': max_iter, 'disp': False})\n",
    "    return res.x.reshape((X.shape[0], 2))\n"
   ]
  },
  {
   "attachments": {},
   "cell_type": "markdown",
   "metadata": {},
   "source": [
    "### Fridge Network Clustering"
   ]
  },
  {
   "cell_type": "code",
   "execution_count": 110,
   "metadata": {},
   "outputs": [],
   "source": [
    "# n1=0\n",
    "# n2=0\n",
    "# s1 = recon_cohs[n1]\n",
    "# s2 = recon_cohs[n2]\n",
    "# seizure_comparison = 1-cdist(s1,s2,metric='cityblock')\n",
    "# seizure_clustering = 1-squareform(pdist(recon_cohs[11],'cityblock'))\n",
    "# plt.imshow(seizure_clustering)"
   ]
  },
  {
   "cell_type": "code",
   "execution_count": 111,
   "metadata": {},
   "outputs": [
    {
     "data": {
      "text/plain": [
       "<matplotlib.colorbar.Colorbar at 0x7ff55028f910>"
      ]
     },
     "execution_count": 111,
     "metadata": {},
     "output_type": "execute_result"
    },
    {
     "data": {
      "image/png": "[encoded data removed]",
      "text/plain": [
       "<Figure size 640x480 with 2 Axes>"
      ]
     },
     "metadata": {},
     "output_type": "display_data"
    }
   ],
   "source": [
    "# seizure_clustering = 1-squareform(pdist(manual_cohs,'cityblock'))\n",
    "s1=s2=manual_cohs.T\n",
    "seizure_clustering = np.zeros((s1.shape[1],s2.shape[1]))\n",
    "for i in range(s1.shape[1]):\n",
    "    for j in range(s2.shape[1]):\n",
    "        c = np.corrcoef(s1[:,i],s2[:,j])\n",
    "        c_element = np.abs(c[0,1]) * (1-0.01*np.abs(i-j)/s1.shape[0])\n",
    "        seizure_comparison[i,j] = c_element\n",
    "plt.imshow(seizure_clustering)\n",
    "plt.colorbar()"
   ]
  },
  {
   "cell_type": "code",
   "execution_count": 112,
   "metadata": {},
   "outputs": [
    {
     "data": {
      "text/plain": [
       "[<matplotlib.lines.Line2D at 0x7ff5501886a0>]"
      ]
     },
     "execution_count": 112,
     "metadata": {},
     "output_type": "execute_result"
    },
    {
     "data": {
      "image/png": "[encoded data removed]",
      "text/plain": [
       "<Figure size 640x480 with 1 Axes>"
      ]
     },
     "metadata": {},
     "output_type": "display_data"
    }
   ],
   "source": [
    "all_ass = []\n",
    "for s in range(50):\n",
    "    assignments,_ = community_louvain(seizure_clustering,.95,seed=s)\n",
    "    all_ass.append(assignments)\n",
    "all_ass = np.array(all_ass)\n",
    "raw_assignments,_ = sc.stats.mode(all_ass,axis=0)\n",
    "filt_assignments = sig.medfilt(raw_assignments,7)\n",
    "plt.plot(raw_assignments)"
   ]
  },
  {
   "cell_type": "code",
   "execution_count": 87,
   "metadata": {},
   "outputs": [],
   "source": [
    "# fig,ax = plt.subplots()\n",
    "# divider = make_axes_locatable(ax)\n",
    "# ax_signal = divider.append_axes(\"top\", size=\"5%\", pad=0.5)\n",
    "\n",
    "# # Plot the cluster assignment signal (you can adjust this part to fit your specific needs)\n",
    "# ax_signal.imshow(raw_assignments[np.newaxis, :], cmap='coolwarm', aspect='auto')\n",
    "# ax_signal.axis('off')\n",
    "# ax.imshow(seizure_comparison)\n",
    "# plt.colorbar()"
   ]
  },
  {
   "cell_type": "code",
   "execution_count": 88,
   "metadata": {},
   "outputs": [
    {
     "data": {
      "image/png": "[encoded data removed]",
      "text/plain": [
       "<Figure size 1000x1000 with 2 Axes>"
      ]
     },
     "metadata": {},
     "output_type": "display_data"
    }
   ],
   "source": [
    "plt.figure(figsize=(10, 10))\n",
    "order = np.argsort(raw_assignments)\n",
    "\n",
    "plt.imshow(seizure_clustering)\n",
    "plt.colorbar()\n",
    "# Drawing the community boundaries\n",
    "current_x = 0\n",
    "\n",
    "for module in np.unique(raw_assignments):\n",
    "    size = np.sum(filt_assignments[order] == module)\n",
    "    plt.plot([current_x, current_x + size], [current_x, current_x], 'r', linewidth=2)\n",
    "    \n",
    "    # Left boundary\n",
    "    plt.plot([current_x, current_x], [current_x, current_x + size], 'r', linewidth=2)\n",
    "    \n",
    "    # Bottom boundary\n",
    "    plt.plot([current_x, current_x + size], [current_x + size, current_x + size], 'r', linewidth=2)\n",
    "    \n",
    "    # Right boundary\n",
    "    plt.plot([current_x + size, current_x + size], [current_x, current_x + size], 'r', linewidth=2)\n",
    "    \n",
    "    current_x += size\n",
    "\n",
    "\n",
    "plt.title('Adjacency Matrix with Community Boundaries')\n",
    "plt.show()\n"
   ]
  },
  {
   "attachments": {},
   "cell_type": "markdown",
   "metadata": {},
   "source": [
    "#### Fridge DTW"
   ]
  },
  {
   "attachments": {},
   "cell_type": "markdown",
   "metadata": {},
   "source": [
    "### Graveyard"
   ]
  },
  {
   "cell_type": "code",
   "execution_count": 72,
   "metadata": {},
   "outputs": [],
   "source": [
    "recon_cohs = normalize(W_optimal@H_optimal,'l1',axis=1)"
   ]
  },
  {
   "cell_type": "code",
   "execution_count": null,
   "metadata": {},
   "outputs": [],
   "source": [
    "def calculate_coh_timeseries(data,fs=1024,win_len=10,stride=1,factor=2,freq_bands=[(1, 4), (4, 8), (8, 13), (13, 30), (30, 80), (80, 150)]):\n",
    "    data = sig.decimate(data,factor,axis=0)\n",
    "    data = pd.DataFrame(data,columns=all_seizures[1].columns)\n",
    "    nfs = fs/factor\n",
    "\n",
    "    # Simulate a DataFrame\n",
    "    n_channels = data.shape[1]\n",
    "    m_samples = data.shape[0]\n",
    "\n",
    "    # Define frequency bands\n",
    "    freq_bands = [(1, 4), (4, 8), (8, 13), (13, 30), (30, 80), (80, 150)]\n",
    "\n",
    "    # Window parameters\n",
    "    window_length = int(win_len * nfs)\n",
    "    stride = int(stride*nfs)\n",
    "\n",
    "    # Initialize lists to hold results\n",
    "    all_coherences = []\n",
    "\n",
    "    # Loop through each window\n",
    "    for start in tqdm(range(0, m_samples - window_length + 1, stride)):\n",
    "        window_data = data.iloc[start:start + window_length]\n",
    "        coherence_matrix_list = []\n",
    "        \n",
    "        for low_f, high_f in freq_bands:\n",
    "            coherences = []\n",
    "            for i in range(n_channels):\n",
    "                for j in range(i+1, n_channels):\n",
    "                    f, Cxy = coherence(window_data.iloc[:, i], window_data.iloc[:, j], fs=fs)\n",
    "                    avg_coh = np.mean(Cxy[(f >= low_f) & (f <= high_f)])\n",
    "                    coherences.append(avg_coh)\n",
    "            \n",
    "            coherence_matrix_list.append(np.array(coherences))\n",
    "        \n",
    "        concatenated_coherence = np.concatenate(coherence_matrix_list)\n",
    "        all_coherences.append(concatenated_coherence)\n",
    "    # Convert to NumPy array and L1 normalize\n",
    "    all_coherences = np.array(all_coherences)\n",
    "    all_coherences = normalize(all_coherences, norm='l1', axis=1)\n",
    "    return all_coherences\n"
   ]
  },
  {
   "cell_type": "code",
   "execution_count": null,
   "metadata": {},
   "outputs": [],
   "source": [
    "def nonstationary_bandpower(x: np.ndarray, fs: float, lo_stop=1, hi_stop=120, relative=True, win_size=2, win_stride=1) -> np.array:\n",
    "    \"\"\"\n",
    "    Calculates the relative bandpower of a signal x, using a butterworth filter of order 'order'\n",
    "    and bandpass filter between lo and hi Hz.\n",
    "\n",
    "    Use scipy.signal.welch and scipy.integrate.simpson\n",
    "    \"\"\"\n",
    "    \n",
    "    bands = {\"delta\": (1, 4), \"theta\": (4, 8), \"alpha\": (8, 12), \"beta\": (12, 30), \"gamma\": (30, 80)}\n",
    "    bands = {\"broad\": (6,100)}\n",
    "    nperseg = int(win_size * fs)\n",
    "    noverlap = nperseg - int(win_stride * fs)\n",
    "\n",
    "    # freq, pxx = sig.welch(x=x, fs=fs, nperseg=nperseg, noverlap=noverlap, axis=1)\n",
    "    freq,t,Sxx = sig.spectrogram(x=x,fs=fs,nperseg=nperseg,noverlap=noverlap,axis=1)\n",
    "    filter_idxs = (freq > lo_stop) & (freq < hi_stop)\n",
    "    # log transform the power spectrum\n",
    "    # pxx = 10*np.log10(pxx)\n",
    "    \n",
    "    all_bands = np.zeros((Sxx.shape[0],len(bands),Sxx.shape[2]))\n",
    "    for i, (_, (lo, hi)) in enumerate(bands.items()):\n",
    "        idx_band = np.logical_and(freq >= lo, freq <= hi)\n",
    "        bp = simpson(Sxx[:, idx_band,:], dx=freq[1] - freq[0],axis=1)\n",
    "        # relative\n",
    "        if relative:\n",
    "            bp /= simpson(Sxx[:,filter_idxs,:], dx=freq[1] - freq[0],axis=1)\n",
    "        all_bands[:, i,:] = bp\n",
    "    return all_bands,t\n",
    "    # return bp\n",
    "    # return data_filt\n",
    "bp = nonstationary_bandpower(seizure.to_numpy().T,fs)"
   ]
  },
  {
   "cell_type": "code",
   "execution_count": null,
   "metadata": {},
   "outputs": [
    {
     "ename": "NameError",
     "evalue": "name 'all_seizures' is not defined",
     "output_type": "error",
     "traceback": [
      "\u001b[0;31m---------------------------------------------------------------------------\u001b[0m\n",
      "\u001b[0;31mNameError\u001b[0m                                 Traceback (most recent call last)\n",
      "Cell \u001b[0;32mIn[1], line 1\u001b[0m\n",
      "\u001b[0;32m----> 1\u001b[0m seizure_signals,_ \u001b[39m=\u001b[39m [nonstationary_bandpower(x\u001b[39m.\u001b[39mT,fs,win_size\u001b[39m=\u001b[39m\u001b[39m1\u001b[39m,win_stride\u001b[39m=\u001b[39m\u001b[39m.5\u001b[39m,relative\u001b[39m=\u001b[39m\u001b[39mTrue\u001b[39;00m)\u001b[39m.\u001b[39msqueeze() \u001b[39mfor\u001b[39;00m x \u001b[39min\u001b[39;00m all_seizures];\n",
      "\n",
      "\u001b[0;31mNameError\u001b[0m: name 'all_seizures' is not defined"
     ]
    }
   ],
   "source": [
    "seizure_signals,_ = [nonstationary_bandpower(x.T,fs,win_size=1,win_stride=.5,relative=True).squeeze() for x in all_seizures];"
   ]
  },
  {
   "cell_type": "code",
   "execution_count": 143,
   "metadata": {},
   "outputs": [],
   "source": [
    "s1 = recon_cohs[0].T\n",
    "s2 = recon_cohs[0].T\n",
    "seizure_comparison = np.zeros((s1.shape[1],s2.shape[1]))\n",
    "for i in range(s1.shape[1]):\n",
    "    for j in range(s2.shape[1]):\n",
    "        c = np.corrcoef(s1[:,i],s2[:,j])\n",
    "        c_element = np.abs(c[0,1]) * (1-0.2*np.abs(i-j)/s1.shape[0])\n",
    "        seizure_comparison[i,j] = c_element"
   ]
  },
  {
   "cell_type": "code",
   "execution_count": 144,
   "metadata": {},
   "outputs": [
    {
     "data": {
      "text/plain": [
       "<matplotlib.image.AxesImage at 0x7ff70674afe0>"
      ]
     },
     "execution_count": 144,
     "metadata": {},
     "output_type": "execute_result"
    },
    {
     "data": {
      "image/png": "[encoded data removed]",
      "text/plain": [
       "<Figure size 640x480 with 1 Axes>"
      ]
     },
     "metadata": {},
     "output_type": "display_data"
    }
   ],
   "source": [
    "plt.imshow(seizure_comparison)"
   ]
  },
  {
   "cell_type": "code",
   "execution_count": null,
   "metadata": {},
   "outputs": [],
   "source": []
  }
 ],
 "metadata": {
  "kernelspec": {
   "display_name": "Python 3",
   "language": "python",
   "name": "python3"
  },
  "language_info": {
   "codemirror_mode": {
    "name": "ipython",
    "version": 3
   },
   "file_extension": ".py",
   "mimetype": "text/x-python",
   "name": "python",
   "nbconvert_exporter": "python",
   "pygments_lexer": "ipython3",
   "version": "3.10.12"
  },
  "orig_nbformat": 4
 },
 "nbformat": 4,
 "nbformat_minor": 2
}
