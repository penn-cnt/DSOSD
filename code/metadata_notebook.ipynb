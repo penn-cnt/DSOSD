{
 "cells": [
  {
   "cell_type": "code",
   "execution_count": 1,
   "metadata": {},
   "outputs": [],
   "source": [
    "import numpy as np\n",
    "import pandas as pd\n",
    "import json\n",
    "import seaborn as sns\n",
    "import matplotlib.pyplot as plt\n",
    "from ieeg.auth import Session\n",
    "from scipy import signal as sig\n",
    "import os\n",
    "from os.path import join as ospj\n",
    "from os.path import exists as ospe\n",
    "import pathlib\n",
    "from tqdm import tqdm"
   ]
  },
  {
   "cell_type": "code",
   "execution_count": 2,
   "metadata": {},
   "outputs": [],
   "source": [
    "import sys\n",
    "sys.path.append('/users/wojemann/iEEG_processing')\n",
    "from pioneer import Pioneer"
   ]
  },
  {
   "cell_type": "code",
   "execution_count": 3,
   "metadata": {},
   "outputs": [],
   "source": [
    "with open('config.json','r') as f:\n",
    "    CONFIG = json.load(f)\n",
    "usr = CONFIG[\"paths\"][\"iEEG_USR\"]\n",
    "passpath = CONFIG[\"paths\"][\"iEEG_PWD\"]\n",
    "raw_datapath = CONFIG[\"paths\"][\"RAW_DATA\"]\n",
    "figpath = CONFIG[\"paths\"][\"FIGURES\"]\n",
    "patient_table = pd.DataFrame(CONFIG[\"patients\"]).sort_values('ptID')\n",
    "rid_hup = pd.read_csv(ospj(raw_datapath,'rid_hup.csv'))\n",
    "pt_list = patient_table.ptID.to_numpy()"
   ]
  },
  {
   "cell_type": "code",
   "execution_count": 4,
   "metadata": {},
   "outputs": [
    {
     "data": {
      "text/plain": [
       "array(['CHOP005', 'CHOP010', 'CHOP015', 'CHOP024', 'CHOP026', 'CHOP028',\n",
       "       'CHOP035', 'CHOP036', 'CHOP037', 'CHOP038', 'CHOP041', 'CHOP044',\n",
       "       'CHOP045', 'CHOP046', 'HUP224', 'HUP225', 'HUP230', 'HUP235',\n",
       "       'HUP238', 'HUP246', 'HUP247', 'HUP249', 'HUP250', 'HUP253',\n",
       "       'HUP257', 'HUP261', 'HUP263', 'HUP266', 'HUP267', 'HUP273'],\n",
       "      dtype=object)"
      ]
     },
     "execution_count": 4,
     "metadata": {},
     "output_type": "execute_result"
    }
   ],
   "source": [
    "pt_list"
   ]
  },
  {
   "cell_type": "code",
   "execution_count": 5,
   "metadata": {},
   "outputs": [
    {
     "name": "stdout",
     "output_type": "stream",
     "text": [
      "CHOPCCEP_005 /mnt/leif/littlab/users/wojemann/stim-seizures/RAW_DATA/CHOP005\n",
      "got 97 annotations on call # 1 covering 1635717773 usec to 2527615234 usec\n",
      "Filtered       9.79% of all annotations\n",
      "CHOPCCEP_010 /mnt/leif/littlab/users/wojemann/stim-seizures/RAW_DATA/CHOP010\n"
     ]
    },
    {
     "name": "stderr",
     "output_type": "stream",
     "text": [
      "/users/wojemann/iEEG_processing/pioneer.py:199: SettingWithCopyWarning: \n",
      "A value is trying to be set on a copy of a slice from a DataFrame.\n",
      "Try using .loc[row_indexer,col_indexer] = value instead\n",
      "\n",
      "See the caveats in the documentation: https://pandas.pydata.org/pandas-docs/stable/user_guide/indexing.html#returning-a-view-versus-a-copy\n",
      "  filtered_annotations['IEEG Time'] = t_sec\n"
     ]
    },
    {
     "name": "stdout",
     "output_type": "stream",
     "text": [
      "got 100 annotations on call # 1 covering 1931744140 usec to 4013451171 usec\n",
      "got 100 annotations on call # 2 covering 4523158203 usec to 6077830078 usec\n",
      "got 100 annotations on call # 3 covering 6078824218 usec to 7328460937 usec\n",
      "got 100 annotations on call # 4 covering 7341982421 usec to 8696166015 usec\n",
      "got 100 annotations on call # 5 covering 8696166015 usec to 9868000000 usec\n",
      "got 5 annotations on call # 6 covering 9872822265 usec to 9916207031 usec\n",
      "Filtered       9.92% of all annotations\n",
      "CHOPCCEP_015 /mnt/leif/littlab/users/wojemann/stim-seizures/RAW_DATA/CHOP015\n",
      "got 100 annotations on call # 1 covering 75442569336 usec to 77051421875 usec\n",
      "got 100 annotations on call # 2 covering 77100331054 usec to 78193695312 usec\n",
      "got 100 annotations on call # 3 covering 78193695312 usec to 79939199218 usec\n",
      "got 100 annotations on call # 4 covering 79965650390 usec to 80894464843 usec\n",
      "got 100 annotations on call # 5 covering 80894477539 usec to 81926905273 usec\n",
      "got 100 annotations on call # 6 covering 81961902343 usec to 83120407226 usec\n",
      "got 7 annotations on call # 7 covering 83123213867 usec to 83219490234 usec\n",
      "Filtered       9.87% of all annotations\n",
      "CHOPCCEP_024 /mnt/leif/littlab/users/wojemann/stim-seizures/RAW_DATA/CHOP024\n",
      "got 100 annotations on call # 1 covering 80382812011 usec to 81464685546 usec\n",
      "got 100 annotations on call # 2 covering 81482685546 usec to 82165792480 usec\n",
      "got 100 annotations on call # 3 covering 82170586914 usec to 82765849609 usec\n",
      "got 100 annotations on call # 4 covering 82771388183 usec to 83251019043 usec\n",
      "got 100 annotations on call # 5 covering 83263957031 usec to 83765632324 usec\n",
      "got 100 annotations on call # 6 covering 83767104003 usec to 84271610351 usec\n",
      "got 100 annotations on call # 7 covering 84300134765 usec to 84895620117 usec\n",
      "got 100 annotations on call # 8 covering 84918357421 usec to 85470693359 usec\n",
      "got 100 annotations on call # 9 covering 85471630859 usec to 86027971191 usec\n",
      "got 100 annotations on call # 10 covering 86029538086 usec to 86729102222 usec\n",
      "got 100 annotations on call # 11 covering 86731567066 usec to 87244849293 usec\n",
      "got 100 annotations on call # 12 covering 87245452808 usec to 88086445972 usec\n",
      "got 100 annotations on call # 13 covering 88094318043 usec to 88881102222 usec\n",
      "got 100 annotations on call # 14 covering 88886399097 usec to 89534238453 usec\n",
      "got 58 annotations on call # 15 covering 89534238453 usec to 91062809254 usec\n",
      "Filtered       9.74% of all annotations\n",
      "CHOPCCEP_026 /mnt/leif/littlab/users/wojemann/stim-seizures/RAW_DATA/CHOP026\n",
      "got 100 annotations on call # 1 covering 421874511 usec to 1431722168 usec\n",
      "got 100 annotations on call # 2 covering 1432581054 usec to 2261802246 usec\n",
      "got 100 annotations on call # 3 covering 2262822753 usec to 3114808593 usec\n",
      "got 100 annotations on call # 4 covering 3142840820 usec to 4237011718 usec\n",
      "got 100 annotations on call # 5 covering 4257393066 usec to 5145331543 usec\n",
      "got 100 annotations on call # 6 covering 5146346191 usec to 6152742187 usec\n",
      "got 100 annotations on call # 7 covering 6152745117 usec to 7264638007 usec\n",
      "got 100 annotations on call # 8 covering 7265649238 usec to 8180143379 usec\n",
      "got 100 annotations on call # 9 covering 8181139961 usec to 9119701484 usec\n",
      "got 100 annotations on call # 10 covering 9119704414 usec to 10073178047 usec\n",
      "got 100 annotations on call # 11 covering 10080743964 usec to 11137953925 usec\n",
      "got 31 annotations on call # 12 covering 11140786445 usec to 12222860175 usec\n",
      "Filtered       9.87% of all annotations\n",
      "CHOPCCEP_028 /mnt/leif/littlab/users/wojemann/stim-seizures/RAW_DATA/CHOP028\n",
      "got 100 annotations on call # 1 covering 5056640136 usec to 5495121093 usec\n",
      "got 100 annotations on call # 2 covering 5496050781 usec to 6147394531 usec\n",
      "got 100 annotations on call # 3 covering 6152578613 usec to 6636145019 usec\n",
      "got 100 annotations on call # 4 covering 6636150878 usec to 7215882812 usec\n",
      "got 100 annotations on call # 5 covering 7223437500 usec to 7778632324 usec\n",
      "got 100 annotations on call # 6 covering 7783703125 usec to 8281711425 usec\n",
      "got 100 annotations on call # 7 covering 8282708984 usec to 8803755859 usec\n",
      "got 100 annotations on call # 8 covering 8804788574 usec to 9395340332 usec\n",
      "got 100 annotations on call # 9 covering 9396358398 usec to 9894230468 usec\n",
      "got 100 annotations on call # 10 covering 9895632324 usec to 10400719238 usec\n",
      "got 100 annotations on call # 11 covering 10407896484 usec to 10980236328 usec\n",
      "got 100 annotations on call # 12 covering 10980239746 usec to 11491292968 usec\n",
      "got 91 annotations on call # 13 covering 11511347656 usec to 12272572265 usec\n",
      "Filtered       9.89% of all annotations\n",
      "CHOPCCEP_035 /mnt/leif/littlab/users/wojemann/stim-seizures/RAW_DATA/CHOP035\n",
      "got 100 annotations on call # 1 covering 917968261 usec to 1793281738 usec\n",
      "got 100 annotations on call # 2 covering 1793283203 usec to 2659147461 usec\n",
      "got 100 annotations on call # 3 covering 2664360839 usec to 4530983398 usec\n",
      "got 100 annotations on call # 4 covering 4532651855 usec to 5572918945 usec\n",
      "got 100 annotations on call # 5 covering 5573930175 usec to 6673482421 usec\n",
      "got 100 annotations on call # 6 covering 6716535156 usec to 7704746582 usec\n",
      "got 7 annotations on call # 7 covering 7705551269 usec to 9617941406 usec\n",
      "Filtered       9.95% of all annotations\n",
      "CHOPCCEP_036 /mnt/leif/littlab/users/wojemann/stim-seizures/RAW_DATA/CHOP036\n",
      "got 100 annotations on call # 1 covering 15624511 usec to 1391847656 usec\n",
      "got 100 annotations on call # 2 covering 1401673828 usec to 2238547851 usec\n",
      "got 100 annotations on call # 3 covering 2239248046 usec to 3316260742 usec\n",
      "got 100 annotations on call # 4 covering 3332928222 usec to 4242369628 usec\n",
      "got 100 annotations on call # 5 covering 4242374023 usec to 5031669433 usec\n",
      "got 100 annotations on call # 6 covering 5032565429 usec to 6069801757 usec\n",
      "got 100 annotations on call # 7 covering 6082553711 usec to 7102811523 usec\n",
      "got 100 annotations on call # 8 covering 7104210449 usec to 8198238281 usec\n",
      "got 100 annotations on call # 9 covering 8230766113 usec to 9109919921 usec\n",
      "got 100 annotations on call # 10 covering 9117593750 usec to 9877901855 usec\n",
      "got 46 annotations on call # 11 covering 9926881836 usec to 10243513671 usec\n",
      "Filtered      10.00% of all annotations\n",
      "CHOPCCEP_037 /mnt/leif/littlab/users/wojemann/stim-seizures/RAW_DATA/CHOP037\n",
      "got 100 annotations on call # 1 covering 4718749511 usec to 5440413086 usec\n",
      "got 100 annotations on call # 2 covering 5441704589 usec to 6268274414 usec\n",
      "got 100 annotations on call # 3 covering 6272681152 usec to 7050426269 usec\n",
      "got 100 annotations on call # 4 covering 7051434082 usec to 7918638183 usec\n",
      "got 100 annotations on call # 5 covering 7965348632 usec to 8837787597 usec\n",
      "got 100 annotations on call # 6 covering 8837789550 usec to 9670914550 usec\n",
      "got 100 annotations on call # 7 covering 9676909668 usec to 10651875000 usec\n",
      "got 100 annotations on call # 8 covering 10651875976 usec to 11417024414 usec\n",
      "got 100 annotations on call # 9 covering 11433483886 usec to 12271571777 usec\n",
      "got 100 annotations on call # 10 covering 12277469238 usec to 13128982421 usec\n",
      "got 100 annotations on call # 11 covering 13135012695 usec to 14295100586 usec\n",
      "got 100 annotations on call # 12 covering 14300732421 usec to 15747940429 usec\n",
      "got 2 annotations on call # 13 covering 15747941406 usec to 15748956054 usec\n",
      "Filtered       9.98% of all annotations\n",
      "CHOPCCEP_038 /mnt/leif/littlab/users/wojemann/stim-seizures/RAW_DATA/CHOP038\n",
      "got 100 annotations on call # 1 covering 2613281 usec to 1244652343 usec\n",
      "got 100 annotations on call # 2 covering 1245669921 usec to 2123605468 usec\n",
      "got 100 annotations on call # 3 covering 2123619140 usec to 2925222656 usec\n",
      "got 100 annotations on call # 4 covering 2944597656 usec to 3808113281 usec\n",
      "got 100 annotations on call # 5 covering 3846628906 usec to 4638845703 usec\n",
      "got 100 annotations on call # 6 covering 4650833984 usec to 5253738281 usec\n",
      "got 100 annotations on call # 7 covering 5264978515 usec to 6629724609 usec\n",
      "got 100 annotations on call # 8 covering 6635613281 usec to 9955246093 usec\n",
      "got 25 annotations on call # 9 covering 9964015625 usec to 10880593750 usec\n",
      "Filtered       9.76% of all annotations\n",
      "CHOPCCEP_041 /mnt/leif/littlab/users/wojemann/stim-seizures/RAW_DATA/CHOP041\n",
      "got 100 annotations on call # 1 covering 1949218261 usec to 2721504882 usec\n",
      "got 100 annotations on call # 2 covering 2754856445 usec to 3735882812 usec\n",
      "got 100 annotations on call # 3 covering 3737368164 usec to 4712554687 usec\n",
      "got 100 annotations on call # 4 covering 4713003906 usec to 5739427734 usec\n",
      "got 100 annotations on call # 5 covering 5751019043 usec to 8087175781 usec\n",
      "got 100 annotations on call # 6 covering 8098272461 usec to 9058588867 usec\n",
      "got 60 annotations on call # 7 covering 9121792968 usec to 9690684570 usec\n",
      "Filtered       9.92% of all annotations\n",
      "CHOPCCEP_044 /mnt/leif/littlab/users/wojemann/stim-seizures/RAW_DATA/CHOP044\n",
      "got 100 annotations on call # 1 covering 2896483886 usec to 4207374023 usec\n",
      "got 100 annotations on call # 2 covering 4241168945 usec to 5044733398 usec\n",
      "got 100 annotations on call # 3 covering 5131036621 usec to 5973389648 usec\n",
      "got 100 annotations on call # 4 covering 6002504394 usec to 6797827148 usec\n",
      "got 100 annotations on call # 5 covering 6831302734 usec to 7640177246 usec\n",
      "got 100 annotations on call # 6 covering 7647708496 usec to 8486388183 usec\n",
      "got 14 annotations on call # 7 covering 8486402832 usec to 8586285644 usec\n",
      "Filtered       9.98% of all annotations\n",
      "CHOPCCEP_045 /mnt/leif/littlab/users/wojemann/stim-seizures/RAW_DATA/CHOP045\n",
      "got 100 annotations on call # 1 covering 0 usec to 28083033203 usec\n",
      "got 100 annotations on call # 2 covering 28110384765 usec to 28851720703 usec\n",
      "got 100 annotations on call # 3 covering 28884802246 usec to 29581712890 usec\n",
      "got 100 annotations on call # 4 covering 29615863281 usec to 30319821777 usec\n",
      "got 100 annotations on call # 5 covering 30320831054 usec to 31204949707 usec\n",
      "got 100 annotations on call # 6 covering 31218443359 usec to 32310733886 usec\n",
      "got 77 annotations on call # 7 covering 32311468750 usec to 33609726562 usec\n",
      "Filtered       9.93% of all annotations\n",
      "CHOPCCEP_046 /mnt/leif/littlab/users/wojemann/stim-seizures/RAW_DATA/CHOP046\n",
      "got 100 annotations on call # 1 covering 10798827636 usec to 11748053711 usec\n",
      "got 100 annotations on call # 2 covering 11787051269 usec to 12859483886 usec\n",
      "got 100 annotations on call # 3 covering 12869177246 usec to 13735206543 usec\n",
      "got 100 annotations on call # 4 covering 13856449218 usec to 14898701660 usec\n",
      "got 100 annotations on call # 5 covering 14900266601 usec to 15893118652 usec\n",
      "got 100 annotations on call # 6 covering 15931569336 usec to 16858815429 usec\n",
      "got 72 annotations on call # 7 covering 16860376464 usec to 17722644531 usec\n",
      "Filtered       9.85% of all annotations\n"
     ]
    }
   ],
   "source": [
    "for i,pt in patient_table.iloc[:14,:].iterrows():\n",
    "    for ieeg_pt in pt.ieeg_ids:\n",
    "        try:\n",
    "            save_path = ospj(raw_datapath,pt.ptID)\n",
    "            print(ieeg_pt,save_path)\n",
    "            if not ospe(save_path):\n",
    "                os.makedirs(save_path)\n",
    "            wagon = Pioneer(usr,passpath,ieeg_pt)\n",
    "            wagon.pull_annotations()\n",
    "            wagon.filter_seizure_annotations()\n",
    "            wagon.seizure_annotations.to_csv(ospj(save_path,f'seizure_annotations_{ieeg_pt}.csv'))\n",
    "        except:\n",
    "            continue"
   ]
  },
  {
   "attachments": {},
   "cell_type": "markdown",
   "metadata": {},
   "source": [
    "#### Goal of next section is to make a csv containing all of the seizure times for each of these patients. The csv should contain HUPID, EEC, UEO, flag for stim or not, "
   ]
  },
  {
   "cell_type": "code",
   "execution_count": null,
   "metadata": {},
   "outputs": [],
   "source": []
  }
 ],
 "metadata": {
  "kernelspec": {
   "display_name": "Python 3",
   "language": "python",
   "name": "python3"
  },
  "language_info": {
   "codemirror_mode": {
    "name": "ipython",
    "version": 3
   },
   "file_extension": ".py",
   "mimetype": "text/x-python",
   "name": "python",
   "nbconvert_exporter": "python",
   "pygments_lexer": "ipython3",
   "version": "3.6.15"
  },
  "vscode": {
   "interpreter": {
    "hash": "767d51c1340bd893661ea55ea3124f6de3c7a262a8b4abca0554b478b1e2ff90"
   }
  }
 },
 "nbformat": 4,
 "nbformat_minor": 2
}
