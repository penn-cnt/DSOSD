{
 "cells": [
  {
   "cell_type": "code",
   "execution_count": 1,
   "metadata": {},
   "outputs": [],
   "source": [
    "import numpy as np\n",
    "import pandas as pd\n",
    "import json\n",
    "import seaborn as sns\n",
    "import matplotlib.pyplot as plt\n",
    "from ieeg.auth import Session\n",
    "from scipy import signal as sig\n",
    "import os\n",
    "from os.path import join as ospj\n",
    "from os.path import exists as ospe\n",
    "import pathlib\n",
    "from tqdm import tqdm"
   ]
  },
  {
   "cell_type": "code",
   "execution_count": 2,
   "metadata": {},
   "outputs": [],
   "source": [
    "import sys\n",
    "sys.path.append('/users/wojemann/iEEG_processing')\n",
    "from pioneer import Pioneer"
   ]
  },
  {
   "cell_type": "code",
   "execution_count": 3,
   "metadata": {},
   "outputs": [],
   "source": [
    "with open('config.json','r') as f:\n",
    "    config = json.load(f)"
   ]
  },
  {
   "cell_type": "code",
   "execution_count": 4,
   "metadata": {},
   "outputs": [],
   "source": [
    "ptList = config['patients']"
   ]
  },
  {
   "cell_type": "code",
   "execution_count": 5,
   "metadata": {},
   "outputs": [
    {
     "data": {
      "text/plain": [
       "{'META': '/mnt/leif/littlab/users/wojemann/stim-seizures/',\n",
       " 'RAW_DATA': '/mnt/leif/littlab/users/wojemann/stim-seizures/RAW_DATA',\n",
       " 'iEEG_USR': 'wojemann',\n",
       " 'iEEG_PWD': '/mnt/leif/littlab/users/wojemann/woj_ieeglogin.bin'}"
      ]
     },
     "metadata": {},
     "output_type": "display_data"
    }
   ],
   "source": [
    "display(config['paths'])\n",
    "raw_datapath = config['paths']['RAW_DATA']\n",
    "usr = config['paths']['iEEG_USR']\n",
    "pwd = config['paths']['iEEG_PWD']\n",
    "ignore_list = config['ignore']"
   ]
  },
  {
   "cell_type": "code",
   "execution_count": 6,
   "metadata": {},
   "outputs": [],
   "source": [
    "# wagon = Pioneer(usr,pwd,ptList[0])\n",
    "# wagon.pull_annotations()\n",
    "# wagon.filter_seizure_annotations()\n",
    "# test = wagon.seizure_annotations"
   ]
  },
  {
   "cell_type": "code",
   "execution_count": 7,
   "metadata": {},
   "outputs": [
    {
     "data": {
      "text/plain": [
       "['HUP224_phaseII',\n",
       " 'HUP225_phaseII',\n",
       " 'HUP230_phaseII',\n",
       " 'HUP235_phaseII',\n",
       " 'HUP238_phaseII',\n",
       " 'HUP249_phaseII',\n",
       " 'HUP250_phaseII',\n",
       " 'HUP253_phaseII',\n",
       " 'HUP257_phaseII',\n",
       " 'HUP224_CCEP',\n",
       " 'HUP225_CCEP',\n",
       " 'HUP230_CCEP',\n",
       " 'HUP235_CCEP',\n",
       " 'HUP238_CCEP',\n",
       " 'HUP249_CCEP',\n",
       " 'HUP250_CCEP',\n",
       " 'HUP253_CCEP',\n",
       " 'HUP257_CCEP']"
      ]
     },
     "execution_count": 7,
     "metadata": {},
     "output_type": "execute_result"
    }
   ],
   "source": [
    "ptList"
   ]
  },
  {
   "cell_type": "code",
   "execution_count": 8,
   "metadata": {},
   "outputs": [
    {
     "name": "stdout",
     "output_type": "stream",
     "text": [
      "HUP231_phaseII /mnt/leif/littlab/users/wojemann/stim-seizures/RAW_DATA/HUP231\n",
      "got 100 annotations on call # 1 covering 4947368164 usec to 125317514601 usec\n",
      "got 100 annotations on call # 2 covering 125588929640 usec to 226092735204 usec\n",
      "got 100 annotations on call # 3 covering 227596958837 usec to 320168690568 usec\n",
      "got 100 annotations on call # 4 covering 331939894227 usec to 373301056337 usec\n",
      "got 100 annotations on call # 5 covering 376878345399 usec to 538092615941 usec\n",
      "got 15 annotations on call # 6 covering 540815021215 usec to 573300696996 usec\n",
      "Filtered       8.02% of all annotations\n",
      "HUP239_phaseII /mnt/leif/littlab/users/wojemann/stim-seizures/RAW_DATA/HUP239\n"
     ]
    },
    {
     "name": "stderr",
     "output_type": "stream",
     "text": [
      "/users/wojemann/iEEG_processing/pioneer.py:199: SettingWithCopyWarning: \n",
      "A value is trying to be set on a copy of a slice from a DataFrame.\n",
      "Try using .loc[row_indexer,col_indexer] = value instead\n",
      "\n",
      "See the caveats in the documentation: https://pandas.pydata.org/pandas-docs/stable/user_guide/indexing.html#returning-a-view-versus-a-copy\n",
      "  filtered_annotations['IEEG Time'] = t_sec\n"
     ]
    },
    {
     "name": "stdout",
     "output_type": "stream",
     "text": [
      "got 100 annotations on call # 1 covering 3396730468 usec to 17160304687 usec\n",
      "got 100 annotations on call # 2 covering 17160304687 usec to 22966752929 usec\n",
      "got 100 annotations on call # 3 covering 22987943359 usec to 35347931640 usec\n",
      "got 100 annotations on call # 4 covering 35347931640 usec to 49637416015 usec\n",
      "got 100 annotations on call # 5 covering 49660948242 usec to 64478025390 usec\n",
      "got 100 annotations on call # 6 covering 64478025390 usec to 74682754868 usec\n",
      "got 100 annotations on call # 7 covering 74682754868 usec to 78981873032 usec\n",
      "got 100 annotations on call # 8 covering 78981873032 usec to 91544498728 usec\n",
      "got 100 annotations on call # 9 covering 91814457016 usec to 107778285141 usec\n",
      "got 100 annotations on call # 10 covering 107778285141 usec to 124747549509 usec\n",
      "got 100 annotations on call # 11 covering 124747549509 usec to 143722329919 usec\n",
      "got 100 annotations on call # 12 covering 144403948083 usec to 161082286827 usec\n",
      "got 100 annotations on call # 13 covering 161082286827 usec to 178741128808 usec\n",
      "got 100 annotations on call # 14 covering 178741128808 usec to 200182136436 usec\n",
      "got 100 annotations on call # 15 covering 200182136436 usec to 209808045800 usec\n",
      "got 100 annotations on call # 16 covering 209938479209 usec to 222372424522 usec\n",
      "got 100 annotations on call # 17 covering 222541660850 usec to 231232029991 usec\n",
      "got 100 annotations on call # 18 covering 231461351464 usec to 243189122948 usec\n",
      "got 100 annotations on call # 19 covering 243566140527 usec to 253129876429 usec\n",
      "got 100 annotations on call # 20 covering 253129876429 usec to 270586600062 usec\n",
      "got 100 annotations on call # 21 covering 270586600062 usec to 291381301234 usec\n",
      "got 100 annotations on call # 22 covering 291381301234 usec to 311826997523 usec\n",
      "got 100 annotations on call # 23 covering 311826997523 usec to 358747263609 usec\n",
      "got 100 annotations on call # 24 covering 358747263609 usec to 377449688414 usec\n",
      "got 100 annotations on call # 25 covering 377449688414 usec to 391031962828 usec\n",
      "got 100 annotations on call # 26 covering 391031962828 usec to 431783067110 usec\n",
      "got 100 annotations on call # 27 covering 431783067110 usec to 477759747774 usec\n",
      "got 100 annotations on call # 28 covering 477759747774 usec to 507167220035 usec\n",
      "got 100 annotations on call # 29 covering 507167220035 usec to 518617557400 usec\n",
      "got 100 annotations on call # 30 covering 519051435855 usec to 522018399197 usec\n",
      "got 100 annotations on call # 31 covering 522040162869 usec to 523254645291 usec\n",
      "got 100 annotations on call # 32 covering 523266910916 usec to 524112840603 usec\n",
      "got 100 annotations on call # 33 covering 524125295681 usec to 532577298160 usec\n",
      "got 100 annotations on call # 34 covering 533168252262 usec to 533775747379 usec\n",
      "got 100 annotations on call # 35 covering 533928356754 usec to 545387413394 usec\n",
      "got 100 annotations on call # 36 covering 545387413394 usec to 553024862613 usec\n",
      "got 100 annotations on call # 37 covering 553024862613 usec to 554477747379 usec\n",
      "got 100 annotations on call # 38 covering 554477747379 usec to 569181017743 usec\n",
      "got 100 annotations on call # 39 covering 570172608563 usec to 581624489566 usec\n",
      "got 100 annotations on call # 40 covering 581624489566 usec to 601117262860 usec\n",
      "got 100 annotations on call # 41 covering 601121103680 usec to 618609404283 usec\n",
      "got 100 annotations on call # 42 covering 618609404283 usec to 619119146470 usec\n",
      "got 100 annotations on call # 43 covering 619119146470 usec to 626176583970 usec\n",
      "got 100 annotations on call # 44 covering 626176583970 usec to 668774177720 usec\n",
      "got 79 annotations on call # 45 covering 668774177720 usec to 747329641741 usec\n",
      "Filtered       9.14% of all annotations\n",
      "HUP241_phaseII /mnt/leif/littlab/users/wojemann/stim-seizures/RAW_DATA/HUP241\n",
      "got 100 annotations on call # 1 covering 1291433593 usec to 16222844131 usec\n",
      "got 100 annotations on call # 2 covering 16222844131 usec to 44541906631 usec\n",
      "got 100 annotations on call # 3 covering 44548422256 usec to 75638938459 usec\n",
      "got 100 annotations on call # 4 covering 75641071272 usec to 88144599592 usec\n",
      "got 100 annotations on call # 5 covering 88144599592 usec to 118473047834 usec\n",
      "got 100 annotations on call # 6 covering 118473047834 usec to 126342462873 usec\n",
      "got 100 annotations on call # 7 covering 126342462873 usec to 151676957990 usec\n",
      "got 100 annotations on call # 8 covering 152878163068 usec to 160045673067 usec\n",
      "got 100 annotations on call # 9 covering 160045673067 usec to 192858527559 usec\n",
      "got 100 annotations on call # 10 covering 194495515841 usec to 211028423067 usec\n",
      "got 100 annotations on call # 11 covering 211028423067 usec to 245611439069 usec\n",
      "got 100 annotations on call # 12 covering 245611439069 usec to 248863257428 usec\n",
      "got 100 annotations on call # 13 covering 250070578717 usec to 257907671491 usec\n",
      "got 100 annotations on call # 14 covering 257907671491 usec to 261019105084 usec\n",
      "got 100 annotations on call # 15 covering 261019105084 usec to 268326841412 usec\n",
      "got 100 annotations on call # 16 covering 268326841412 usec to 287465675397 usec\n",
      "got 100 annotations on call # 17 covering 287465675397 usec to 309751371686 usec\n",
      "got 100 annotations on call # 18 covering 309751371686 usec to 339608613555 usec\n",
      "got 100 annotations on call # 19 covering 339608613555 usec to 354134903594 usec\n",
      "got 100 annotations on call # 20 covering 354134903594 usec to 384817301055 usec\n",
      "got 100 annotations on call # 21 covering 384817301055 usec to 418740402997 usec\n",
      "got 100 annotations on call # 22 covering 418740402997 usec to 427742600262 usec\n",
      "got 100 annotations on call # 23 covering 427742600262 usec to 438816753583 usec\n",
      "got 100 annotations on call # 24 covering 438816753583 usec to 466510296551 usec\n",
      "got 97 annotations on call # 25 covering 467392056317 usec to 508095808194 usec\n",
      "Filtered       6.97% of all annotations\n",
      "HUP240_phaseII /mnt/leif/littlab/users/wojemann/stim-seizures/RAW_DATA/HUP240\n",
      "got 100 annotations on call # 1 covering 9362837890 usec to 30961213867 usec\n",
      "got 100 annotations on call # 2 covering 31086248046 usec to 59420408203 usec\n",
      "got 100 annotations on call # 3 covering 59864327148 usec to 106260702829 usec\n",
      "got 100 annotations on call # 4 covering 106260702829 usec to 140765595407 usec\n",
      "got 100 annotations on call # 5 covering 140812701853 usec to 203046743066 usec\n",
      "got 100 annotations on call # 6 covering 203046743066 usec to 233470300683 usec\n",
      "got 100 annotations on call # 7 covering 233470300683 usec to 250418474207 usec\n",
      "got 100 annotations on call # 8 covering 250609478113 usec to 282859079675 usec\n",
      "got 100 annotations on call # 9 covering 282859079675 usec to 344362267516 usec\n",
      "got 100 annotations on call # 10 covering 347976023375 usec to 375370543883 usec\n",
      "got 100 annotations on call # 11 covering 375379136656 usec to 390791177672 usec\n",
      "got 100 annotations on call # 12 covering 390791177672 usec to 391031962828 usec\n",
      "got 100 annotations on call # 13 covering 391031962828 usec to 516507795681 usec\n",
      "got 100 annotations on call # 14 covering 516515116970 usec to 521544080837 usec\n",
      "got 100 annotations on call # 15 covering 521551186306 usec to 522310274197 usec\n",
      "got 100 annotations on call # 16 covering 522310274197 usec to 523164223416 usec\n",
      "got 100 annotations on call # 17 covering 523164223416 usec to 523777506619 usec\n",
      "got 100 annotations on call # 18 covering 523803014431 usec to 524420115994 usec\n",
      "got 100 annotations on call # 19 covering 524420115994 usec to 543165769314 usec\n",
      "got 100 annotations on call # 20 covering 543165769314 usec to 565068420681 usec\n",
      "got 85 annotations on call # 21 covering 565068420681 usec to 620931654416 usec\n",
      "Filtered       9.48% of all annotations\n"
     ]
    }
   ],
   "source": [
    "for i,pt in enumerate(['HUP231_phaseII','HUP239_phaseII','HUP241_phaseII','HUP240_phaseII']):\n",
    "    save_path = ospj(raw_datapath,pt[:6])\n",
    "    print(pt,save_path)\n",
    "    if not ospe(save_path):\n",
    "        os.makedirs(save_path)\n",
    "    wagon = Pioneer(usr,pwd,pt)\n",
    "    wagon.pull_annotations()\n",
    "    wagon.filter_seizure_annotations()\n",
    "    # wagon.seizure_annotations.loc[:,'ID'] = wagon.ID\n",
    "    wagon.seizure_annotations.to_csv(ospj(save_path,f'seizure_annotations_{pt}.csv'))"
   ]
  },
  {
   "attachments": {},
   "cell_type": "markdown",
   "metadata": {},
   "source": [
    "#### Goal of next section is to make a csv containing all of the seizure times for each of these patients. The csv should contain HUPID, EEC, UEO, flag for stim or not, "
   ]
  },
  {
   "cell_type": "code",
   "execution_count": null,
   "metadata": {},
   "outputs": [],
   "source": []
  }
 ],
 "metadata": {
  "kernelspec": {
   "display_name": "Python 3",
   "language": "python",
   "name": "python3"
  },
  "language_info": {
   "codemirror_mode": {
    "name": "ipython",
    "version": 3
   },
   "file_extension": ".py",
   "mimetype": "text/x-python",
   "name": "python",
   "nbconvert_exporter": "python",
   "pygments_lexer": "ipython3",
   "version": "3.6.15"
  },
  "vscode": {
   "interpreter": {
    "hash": "767d51c1340bd893661ea55ea3124f6de3c7a262a8b4abca0554b478b1e2ff90"
   }
  }
 },
 "nbformat": 4,
 "nbformat_minor": 2
}
