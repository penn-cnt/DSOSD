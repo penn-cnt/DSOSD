{
 "cells": [
  {
   "cell_type": "markdown",
   "metadata": {},
   "source": [
    "# Metadata Extraction and Analysis"
   ]
  },
  {
   "cell_type": "markdown",
   "metadata": {},
   "source": [
    "## Imports and dataloading"
   ]
  },
  {
   "cell_type": "code",
   "execution_count": 1,
   "metadata": {},
   "outputs": [],
   "source": [
    "import numpy as np\n",
    "import pandas as pd\n",
    "import json\n",
    "import seaborn as sns\n",
    "import matplotlib.pyplot as plt\n",
    "from ieeg.auth import Session\n",
    "from scipy import signal as sig\n",
    "import os\n",
    "from os.path import join as ospj\n",
    "from os.path import exists as ospe\n",
    "import pathlib\n",
    "from tqdm import tqdm"
   ]
  },
  {
   "cell_type": "code",
   "execution_count": 2,
   "metadata": {},
   "outputs": [],
   "source": [
    "import sys\n",
    "sys.path.append('/users/wojemann/iEEG_processing')\n",
    "from pioneer import Pioneer"
   ]
  },
  {
   "cell_type": "code",
   "execution_count": 3,
   "metadata": {},
   "outputs": [],
   "source": [
    "with open('config.json','r') as f:\n",
    "    CONFIG = json.load(f)\n",
    "usr = CONFIG[\"paths\"][\"iEEG_USR\"]\n",
    "passpath = CONFIG[\"paths\"][\"iEEG_PWD\"]\n",
    "raw_datapath = CONFIG[\"paths\"][\"RAW_DATA\"]\n",
    "pro_datapath = CONFIG[\"paths\"][\"PROCESSED_DATA\"]\n",
    "figpath = CONFIG[\"paths\"][\"FIGURES\"]\n",
    "patient_table = pd.DataFrame(CONFIG[\"patients\"]).sort_values('ptID')\n",
    "rid_hup = pd.read_csv(ospj(raw_datapath,'rid_hup.csv'))\n",
    "pt_list = patient_table.ptID.to_numpy()"
   ]
  },
  {
   "cell_type": "code",
   "execution_count": 4,
   "metadata": {},
   "outputs": [
    {
     "data": {
      "text/plain": [
       "array(['CHOP005', 'CHOP010', 'CHOP015', 'CHOP024', 'CHOP026', 'CHOP028',\n",
       "       'CHOP035', 'CHOP036', 'CHOP037', 'CHOP038', 'CHOP041', 'CHOP044',\n",
       "       'CHOP045', 'CHOP046', 'HUP224', 'HUP225', 'HUP229', 'HUP230',\n",
       "       'HUP235', 'HUP238', 'HUP246', 'HUP247', 'HUP249', 'HUP250',\n",
       "       'HUP253', 'HUP257', 'HUP261', 'HUP263', 'HUP266', 'HUP267',\n",
       "       'HUP273'], dtype=object)"
      ]
     },
     "execution_count": 4,
     "metadata": {},
     "output_type": "execute_result"
    }
   ],
   "source": [
    "pt_list"
   ]
  },
  {
   "cell_type": "markdown",
   "metadata": {},
   "source": [
    "## Creating annotation assignments"
   ]
  },
  {
   "cell_type": "code",
   "execution_count": 5,
   "metadata": {},
   "outputs": [
    {
     "data": {
      "text/html": [
       "<div>\n",
       "<style scoped>\n",
       "    .dataframe tbody tr th:only-of-type {\n",
       "        vertical-align: middle;\n",
       "    }\n",
       "\n",
       "    .dataframe tbody tr th {\n",
       "        vertical-align: top;\n",
       "    }\n",
       "\n",
       "    .dataframe thead th {\n",
       "        text-align: right;\n",
       "    }\n",
       "</style>\n",
       "<table border=\"1\" class=\"dataframe\">\n",
       "  <thead>\n",
       "    <tr style=\"text-align: right;\">\n",
       "      <th></th>\n",
       "      <th>Patient</th>\n",
       "      <th>IEEGname</th>\n",
       "      <th>approximate_onset</th>\n",
       "      <th>end</th>\n",
       "      <th>stim</th>\n",
       "      <th>stim_channels</th>\n",
       "      <th>annotators</th>\n",
       "    </tr>\n",
       "  </thead>\n",
       "  <tbody>\n",
       "    <tr>\n",
       "      <th>0</th>\n",
       "      <td>HUP224</td>\n",
       "      <td>HUP224_phaseII</td>\n",
       "      <td>71156.59</td>\n",
       "      <td>71190.99</td>\n",
       "      <td>1.0</td>\n",
       "      <td>LB1-LB2</td>\n",
       "      <td></td>\n",
       "    </tr>\n",
       "    <tr>\n",
       "      <th>1</th>\n",
       "      <td>HUP224</td>\n",
       "      <td>HUP224_phaseII</td>\n",
       "      <td>339135.86</td>\n",
       "      <td>339234.20</td>\n",
       "      <td>0.0</td>\n",
       "      <td>NaN</td>\n",
       "      <td></td>\n",
       "    </tr>\n",
       "    <tr>\n",
       "      <th>2</th>\n",
       "      <td>HUP224</td>\n",
       "      <td>HUP224_phaseII</td>\n",
       "      <td>491462.51</td>\n",
       "      <td>491541.43</td>\n",
       "      <td>0.0</td>\n",
       "      <td>NaN</td>\n",
       "      <td></td>\n",
       "    </tr>\n",
       "    <tr>\n",
       "      <th>3</th>\n",
       "      <td>HUP224</td>\n",
       "      <td>HUP224_phaseII</td>\n",
       "      <td>519177.95</td>\n",
       "      <td>519258.16</td>\n",
       "      <td>0.0</td>\n",
       "      <td>NaN</td>\n",
       "      <td></td>\n",
       "    </tr>\n",
       "    <tr>\n",
       "      <th>4</th>\n",
       "      <td>HUP225</td>\n",
       "      <td>HUP225_phaseII</td>\n",
       "      <td>159833.84</td>\n",
       "      <td>159913.05</td>\n",
       "      <td>1.0</td>\n",
       "      <td>RC1-RC2</td>\n",
       "      <td></td>\n",
       "    </tr>\n",
       "  </tbody>\n",
       "</table>\n",
       "</div>"
      ],
      "text/plain": [
       "  Patient        IEEGname  approximate_onset        end  stim stim_channels  \\\n",
       "0  HUP224  HUP224_phaseII           71156.59   71190.99   1.0       LB1-LB2   \n",
       "1  HUP224  HUP224_phaseII          339135.86  339234.20   0.0           NaN   \n",
       "2  HUP224  HUP224_phaseII          491462.51  491541.43   0.0           NaN   \n",
       "3  HUP224  HUP224_phaseII          519177.95  519258.16   0.0           NaN   \n",
       "4  HUP225  HUP225_phaseII          159833.84  159913.05   1.0       RC1-RC2   \n",
       "\n",
       "  annotators  \n",
       "0             \n",
       "1             \n",
       "2             \n",
       "3             \n",
       "4             "
      ]
     },
     "execution_count": 5,
     "metadata": {},
     "output_type": "execute_result"
    }
   ],
   "source": [
    "seizures_df = pd.read_csv(ospj(raw_datapath,'stim_seizure_information - LF_seizure_annotation.csv'))\n",
    "seizures_df = seizures_df[~seizures_df.Patient.isin([\"HUP235\",\"HUP238\",\"HUP246\",\"HUP261\"])]\n",
    "seizures_df = seizures_df[seizures_df['to_annotate']==1]\n",
    "seizures_df['annotators'] = \"\"\n",
    "seizures_df['approximate_onset'].fillna(seizures_df['UEO'],inplace=True)\n",
    "seizures_df['approximate_onset'].fillna(seizures_df['EEC'],inplace=True)\n",
    "seizures_df['approximate_onset'].fillna(seizures_df['Other_onset_description'],inplace=True)\n",
    "seizures_df = seizures_df.drop(['to_annotate','Notes','source','EEC onset channels','UEO onset channels','EEC','UEO','Other_onset_description'],axis=1).reset_index(drop=True)\n",
    "seizures_df.head()"
   ]
  },
  {
   "cell_type": "code",
   "execution_count": 6,
   "metadata": {},
   "outputs": [
    {
     "name": "stdout",
     "output_type": "stream",
     "text": [
      "{'CK': 34, 'EC': 42, 'DZ': 33, 'JJ': 35, 'JK': 36}\n"
     ]
    }
   ],
   "source": [
    "# Assuming you have a DataFrame named 'seizures_df' containing seizure data\n",
    "# And a list of annotators initials 2,5\n",
    "np.random.seed(10)\n",
    "annotators = ['CK','EC','DZ','JJ','JK']\n",
    "annotation_counts = {key: 0 for key in annotators}\n",
    "def calc_weights(annotation_counts):\n",
    "    weights = [1/(1+value) for value in annotation_counts.values()]\n",
    "    tot_weight = sum(weights)\n",
    "    return [w/tot_weight for w in weights]\n",
    "\n",
    "# Assuming 'seizures_df' contains a column 'patient_id' indicating the patient ID for each seizure\n",
    "# We'll first group seizures by patient_id\n",
    "grouped_seizures = seizures_df.groupby('Patient')\n",
    "\n",
    "# Dictionary to store DataFrames for each annotator\n",
    "annotator_dfs = {}\n",
    "\n",
    "# Create Primary DF that contains all seizures from all patients with all annotators per seizure\n",
    "# Iterate over each patient group\n",
    "for patient_id, patient_group in grouped_seizures:\n",
    "    num_seizures = len(patient_group)\n",
    "    # Randomly assign 3 annotators to the patient\n",
    "    weights = calc_weights(annotation_counts)\n",
    "    assigned_annotators = np.random.choice(annotators, size=3, replace=False,p=weights)\n",
    "    annot_str = str(assigned_annotators)\n",
    "    \n",
    "    annotator_list = np.repeat(annot_str,num_seizures,0)\n",
    "    # if len(annotator_list.shape) < 2:\n",
    "    #     annotator_list = np.expand_dims(annotator_list,0)\n",
    "    \n",
    "    seizures_df.iloc[seizures_df.Patient == patient_id,-1] = annotator_list\n",
    "    # Repeat the annotators for each seizure in the patient group\n",
    "    for annotator in assigned_annotators:\n",
    "        annotation_counts[annotator] += len(patient_group)\n",
    "        if annotator in annotator_dfs.keys():\n",
    "            annotator_dfs[annotator] = pd.concat([annotator_dfs[annotator],patient_group])\n",
    "        else:\n",
    "            annotator_dfs[annotator] = patient_group\n",
    "print(annotation_counts)"
   ]
  },
  {
   "cell_type": "code",
   "execution_count": 18,
   "metadata": {},
   "outputs": [],
   "source": [
    "for key in annotator_dfs.keys():\n",
    "    annotator_dfs[key][[\"UEO_time\",\"UEO_ch\",\"10sec_ch\"]] = \"\"\n",
    "    annotator_dfs[key].to_csv(ospj(pro_datapath,f\"stim_seizure_annotations_{key}.csv\"),index=False)\n",
    "seizures_df.to_csv(ospj(pro_datapath,\"LF_seizure_annotations_wannotator.csv\"),index=False)"
   ]
  },
  {
   "cell_type": "markdown",
   "metadata": {},
   "source": [
    "## Extracting seizure annotations from iEEG"
   ]
  },
  {
   "cell_type": "code",
   "execution_count": 11,
   "metadata": {},
   "outputs": [
    {
     "name": "stdout",
     "output_type": "stream",
     "text": [
      "HUP261_phaseII /mnt/leif/littlab/users/wojemann/stim-seizures/RAW_DATA/HUP261\n"
     ]
    },
    {
     "ename": "IeegConnectionError",
     "evalue": "",
     "output_type": "error",
     "traceback": [
      "\u001b[0;31m---------------------------------------------------------------------------\u001b[0m",
      "\u001b[0;31mIeegConnectionError\u001b[0m                       Traceback (most recent call last)",
      "\u001b[0;32m<ipython-input-11-97622dd784cd>\u001b[0m in \u001b[0;36m<module>\u001b[0;34m\u001b[0m\n\u001b[1;32m      6\u001b[0m             \u001b[0;32mif\u001b[0m \u001b[0;32mnot\u001b[0m \u001b[0mospe\u001b[0m\u001b[0;34m(\u001b[0m\u001b[0msave_path\u001b[0m\u001b[0;34m)\u001b[0m\u001b[0;34m:\u001b[0m\u001b[0;34m\u001b[0m\u001b[0;34m\u001b[0m\u001b[0m\n\u001b[1;32m      7\u001b[0m                 \u001b[0mos\u001b[0m\u001b[0;34m.\u001b[0m\u001b[0mmakedirs\u001b[0m\u001b[0;34m(\u001b[0m\u001b[0msave_path\u001b[0m\u001b[0;34m)\u001b[0m\u001b[0;34m\u001b[0m\u001b[0;34m\u001b[0m\u001b[0m\n\u001b[0;32m----> 8\u001b[0;31m             \u001b[0mwagon\u001b[0m \u001b[0;34m=\u001b[0m \u001b[0mPioneer\u001b[0m\u001b[0;34m(\u001b[0m\u001b[0musr\u001b[0m\u001b[0;34m,\u001b[0m\u001b[0mpasspath\u001b[0m\u001b[0;34m,\u001b[0m\u001b[0mieeg_pt\u001b[0m\u001b[0;34m)\u001b[0m\u001b[0;34m\u001b[0m\u001b[0;34m\u001b[0m\u001b[0m\n\u001b[0m\u001b[1;32m      9\u001b[0m             \u001b[0mwagon\u001b[0m\u001b[0;34m.\u001b[0m\u001b[0mpull_annotations\u001b[0m\u001b[0;34m(\u001b[0m\u001b[0;34m)\u001b[0m\u001b[0;34m\u001b[0m\u001b[0;34m\u001b[0m\u001b[0m\n\u001b[1;32m     10\u001b[0m             \u001b[0mwagon\u001b[0m\u001b[0;34m.\u001b[0m\u001b[0mfilter_seizure_annotations\u001b[0m\u001b[0;34m(\u001b[0m\u001b[0;34m)\u001b[0m\u001b[0;34m\u001b[0m\u001b[0;34m\u001b[0m\u001b[0m\n",
      "\u001b[0;32m/users/wojemann/iEEG_processing/pioneer.py\u001b[0m in \u001b[0;36m__init__\u001b[0;34m(self, username, passpath, ID, start, end, channel_labels, savepath)\u001b[0m\n\u001b[1;32m     40\u001b[0m         \u001b[0;32mwith\u001b[0m \u001b[0mopen\u001b[0m\u001b[0;34m(\u001b[0m\u001b[0mpasspath\u001b[0m\u001b[0;34m,\u001b[0m \u001b[0;34m\"r\"\u001b[0m\u001b[0;34m)\u001b[0m \u001b[0;32mas\u001b[0m \u001b[0mf\u001b[0m\u001b[0;34m:\u001b[0m\u001b[0;34m\u001b[0m\u001b[0;34m\u001b[0m\u001b[0m\n\u001b[1;32m     41\u001b[0m             \u001b[0ms\u001b[0m \u001b[0;34m=\u001b[0m \u001b[0mSession\u001b[0m\u001b[0;34m(\u001b[0m\u001b[0musername\u001b[0m\u001b[0;34m,\u001b[0m \u001b[0mf\u001b[0m\u001b[0;34m.\u001b[0m\u001b[0mread\u001b[0m\u001b[0;34m(\u001b[0m\u001b[0;34m)\u001b[0m\u001b[0;34m)\u001b[0m\u001b[0;34m\u001b[0m\u001b[0;34m\u001b[0m\u001b[0m\n\u001b[0;32m---> 42\u001b[0;31m         \u001b[0mdataset\u001b[0m \u001b[0;34m=\u001b[0m \u001b[0ms\u001b[0m\u001b[0;34m.\u001b[0m\u001b[0mopen_dataset\u001b[0m\u001b[0;34m(\u001b[0m\u001b[0mID\u001b[0m\u001b[0;34m)\u001b[0m\u001b[0;34m\u001b[0m\u001b[0;34m\u001b[0m\u001b[0m\n\u001b[0m\u001b[1;32m     43\u001b[0m         \u001b[0;31m# Either manually set channel labels or grab them from iEEG\u001b[0m\u001b[0;34m\u001b[0m\u001b[0;34m\u001b[0m\u001b[0;34m\u001b[0m\u001b[0m\n\u001b[1;32m     44\u001b[0m         \u001b[0mself\u001b[0m\u001b[0;34m.\u001b[0m\u001b[0mall_labels\u001b[0m \u001b[0;34m=\u001b[0m \u001b[0mnp\u001b[0m\u001b[0;34m.\u001b[0m\u001b[0marray\u001b[0m\u001b[0;34m(\u001b[0m\u001b[0mdataset\u001b[0m\u001b[0;34m.\u001b[0m\u001b[0mget_channel_labels\u001b[0m\u001b[0;34m(\u001b[0m\u001b[0;34m)\u001b[0m\u001b[0;34m)\u001b[0m\u001b[0;34m\u001b[0m\u001b[0;34m\u001b[0m\u001b[0m\n",
      "\u001b[0;32m~/.local/lib/python3.6/site-packages/ieeg/auth.py\u001b[0m in \u001b[0;36mopen_dataset\u001b[0;34m(self, name)\u001b[0m\n\u001b[1;32m     80\u001b[0m         \"\"\"\n\u001b[1;32m     81\u001b[0m \u001b[0;34m\u001b[0m\u001b[0m\n\u001b[0;32m---> 82\u001b[0;31m         \u001b[0mget_id_response\u001b[0m \u001b[0;34m=\u001b[0m \u001b[0mself\u001b[0m\u001b[0;34m.\u001b[0m\u001b[0mapi\u001b[0m\u001b[0;34m.\u001b[0m\u001b[0mget_dataset_id_by_name\u001b[0m\u001b[0;34m(\u001b[0m\u001b[0mname\u001b[0m\u001b[0;34m)\u001b[0m\u001b[0;34m\u001b[0m\u001b[0;34m\u001b[0m\u001b[0m\n\u001b[0m\u001b[1;32m     83\u001b[0m \u001b[0;34m\u001b[0m\u001b[0m\n\u001b[1;32m     84\u001b[0m         \u001b[0msnapshot_id\u001b[0m \u001b[0;34m=\u001b[0m \u001b[0mget_id_response\u001b[0m\u001b[0;34m.\u001b[0m\u001b[0mtext\u001b[0m\u001b[0;34m\u001b[0m\u001b[0;34m\u001b[0m\u001b[0m\n",
      "\u001b[0;32m~/.local/lib/python3.6/site-packages/ieeg/ieeg_api.py\u001b[0m in \u001b[0;36mget_dataset_id_by_name\u001b[0;34m(self, dataset_name)\u001b[0m\n\u001b[1;32m     88\u001b[0m         \u001b[0murl\u001b[0m \u001b[0;34m=\u001b[0m \u001b[0mself\u001b[0m\u001b[0;34m.\u001b[0m\u001b[0mbase_url\u001b[0m \u001b[0;34m+\u001b[0m \u001b[0mIeegApi\u001b[0m\u001b[0;34m.\u001b[0m\u001b[0m_get_id_by_dataset_name_path\u001b[0m \u001b[0;34m+\u001b[0m \u001b[0mdataset_name\u001b[0m\u001b[0;34m\u001b[0m\u001b[0;34m\u001b[0m\u001b[0m\n\u001b[1;32m     89\u001b[0m \u001b[0;34m\u001b[0m\u001b[0m\n\u001b[0;32m---> 90\u001b[0;31m         \u001b[0mresponse\u001b[0m \u001b[0;34m=\u001b[0m \u001b[0mself\u001b[0m\u001b[0;34m.\u001b[0m\u001b[0mhttp\u001b[0m\u001b[0;34m.\u001b[0m\u001b[0mget\u001b[0m\u001b[0;34m(\u001b[0m\u001b[0murl\u001b[0m\u001b[0;34m,\u001b[0m \u001b[0mheaders\u001b[0m\u001b[0;34m=\u001b[0m\u001b[0mIeegApi\u001b[0m\u001b[0;34m.\u001b[0m\u001b[0m_accept_json\u001b[0m\u001b[0;34m)\u001b[0m\u001b[0;34m\u001b[0m\u001b[0;34m\u001b[0m\u001b[0m\n\u001b[0m\u001b[1;32m     91\u001b[0m         \u001b[0;32mreturn\u001b[0m \u001b[0mresponse\u001b[0m\u001b[0;34m\u001b[0m\u001b[0;34m\u001b[0m\u001b[0m\n\u001b[1;32m     92\u001b[0m \u001b[0;34m\u001b[0m\u001b[0m\n",
      "\u001b[0;32m/usr/lib/python3.6/site-packages/requests/sessions.py\u001b[0m in \u001b[0;36mget\u001b[0;34m(self, url, **kwargs)\u001b[0m\n\u001b[1;32m    555\u001b[0m \u001b[0;34m\u001b[0m\u001b[0m\n\u001b[1;32m    556\u001b[0m         \u001b[0mkwargs\u001b[0m\u001b[0;34m.\u001b[0m\u001b[0msetdefault\u001b[0m\u001b[0;34m(\u001b[0m\u001b[0;34m'allow_redirects'\u001b[0m\u001b[0;34m,\u001b[0m \u001b[0;32mTrue\u001b[0m\u001b[0;34m)\u001b[0m\u001b[0;34m\u001b[0m\u001b[0;34m\u001b[0m\u001b[0m\n\u001b[0;32m--> 557\u001b[0;31m         \u001b[0;32mreturn\u001b[0m \u001b[0mself\u001b[0m\u001b[0;34m.\u001b[0m\u001b[0mrequest\u001b[0m\u001b[0;34m(\u001b[0m\u001b[0;34m'GET'\u001b[0m\u001b[0;34m,\u001b[0m \u001b[0murl\u001b[0m\u001b[0;34m,\u001b[0m \u001b[0;34m**\u001b[0m\u001b[0mkwargs\u001b[0m\u001b[0;34m)\u001b[0m\u001b[0;34m\u001b[0m\u001b[0;34m\u001b[0m\u001b[0m\n\u001b[0m\u001b[1;32m    558\u001b[0m \u001b[0;34m\u001b[0m\u001b[0m\n\u001b[1;32m    559\u001b[0m     \u001b[0;32mdef\u001b[0m \u001b[0moptions\u001b[0m\u001b[0;34m(\u001b[0m\u001b[0mself\u001b[0m\u001b[0;34m,\u001b[0m \u001b[0murl\u001b[0m\u001b[0;34m,\u001b[0m \u001b[0;34m**\u001b[0m\u001b[0mkwargs\u001b[0m\u001b[0;34m)\u001b[0m\u001b[0;34m:\u001b[0m\u001b[0;34m\u001b[0m\u001b[0;34m\u001b[0m\u001b[0m\n",
      "\u001b[0;32m/usr/lib/python3.6/site-packages/requests/sessions.py\u001b[0m in \u001b[0;36mrequest\u001b[0;34m(self, method, url, params, data, headers, cookies, files, auth, timeout, allow_redirects, proxies, hooks, stream, verify, cert, json)\u001b[0m\n\u001b[1;32m    542\u001b[0m         }\n\u001b[1;32m    543\u001b[0m         \u001b[0msend_kwargs\u001b[0m\u001b[0;34m.\u001b[0m\u001b[0mupdate\u001b[0m\u001b[0;34m(\u001b[0m\u001b[0msettings\u001b[0m\u001b[0;34m)\u001b[0m\u001b[0;34m\u001b[0m\u001b[0;34m\u001b[0m\u001b[0m\n\u001b[0;32m--> 544\u001b[0;31m         \u001b[0mresp\u001b[0m \u001b[0;34m=\u001b[0m \u001b[0mself\u001b[0m\u001b[0;34m.\u001b[0m\u001b[0msend\u001b[0m\u001b[0;34m(\u001b[0m\u001b[0mprep\u001b[0m\u001b[0;34m,\u001b[0m \u001b[0;34m**\u001b[0m\u001b[0msend_kwargs\u001b[0m\u001b[0;34m)\u001b[0m\u001b[0;34m\u001b[0m\u001b[0;34m\u001b[0m\u001b[0m\n\u001b[0m\u001b[1;32m    545\u001b[0m \u001b[0;34m\u001b[0m\u001b[0m\n\u001b[1;32m    546\u001b[0m         \u001b[0;32mreturn\u001b[0m \u001b[0mresp\u001b[0m\u001b[0;34m\u001b[0m\u001b[0;34m\u001b[0m\u001b[0m\n",
      "\u001b[0;32m/usr/lib/python3.6/site-packages/requests/sessions.py\u001b[0m in \u001b[0;36msend\u001b[0;34m(self, request, **kwargs)\u001b[0m\n\u001b[1;32m    662\u001b[0m \u001b[0;34m\u001b[0m\u001b[0m\n\u001b[1;32m    663\u001b[0m         \u001b[0;31m# Response manipulation hooks\u001b[0m\u001b[0;34m\u001b[0m\u001b[0;34m\u001b[0m\u001b[0;34m\u001b[0m\u001b[0m\n\u001b[0;32m--> 664\u001b[0;31m         \u001b[0mr\u001b[0m \u001b[0;34m=\u001b[0m \u001b[0mdispatch_hook\u001b[0m\u001b[0;34m(\u001b[0m\u001b[0;34m'response'\u001b[0m\u001b[0;34m,\u001b[0m \u001b[0mhooks\u001b[0m\u001b[0;34m,\u001b[0m \u001b[0mr\u001b[0m\u001b[0;34m,\u001b[0m \u001b[0;34m**\u001b[0m\u001b[0mkwargs\u001b[0m\u001b[0;34m)\u001b[0m\u001b[0;34m\u001b[0m\u001b[0;34m\u001b[0m\u001b[0m\n\u001b[0m\u001b[1;32m    665\u001b[0m \u001b[0;34m\u001b[0m\u001b[0m\n\u001b[1;32m    666\u001b[0m         \u001b[0;31m# Persist cookies\u001b[0m\u001b[0;34m\u001b[0m\u001b[0;34m\u001b[0m\u001b[0;34m\u001b[0m\u001b[0m\n",
      "\u001b[0;32m/usr/lib/python3.6/site-packages/requests/hooks.py\u001b[0m in \u001b[0;36mdispatch_hook\u001b[0;34m(key, hooks, hook_data, **kwargs)\u001b[0m\n\u001b[1;32m     29\u001b[0m             \u001b[0mhooks\u001b[0m \u001b[0;34m=\u001b[0m \u001b[0;34m[\u001b[0m\u001b[0mhooks\u001b[0m\u001b[0;34m]\u001b[0m\u001b[0;34m\u001b[0m\u001b[0;34m\u001b[0m\u001b[0m\n\u001b[1;32m     30\u001b[0m         \u001b[0;32mfor\u001b[0m \u001b[0mhook\u001b[0m \u001b[0;32min\u001b[0m \u001b[0mhooks\u001b[0m\u001b[0;34m:\u001b[0m\u001b[0;34m\u001b[0m\u001b[0;34m\u001b[0m\u001b[0m\n\u001b[0;32m---> 31\u001b[0;31m             \u001b[0m_hook_data\u001b[0m \u001b[0;34m=\u001b[0m \u001b[0mhook\u001b[0m\u001b[0;34m(\u001b[0m\u001b[0mhook_data\u001b[0m\u001b[0;34m,\u001b[0m \u001b[0;34m**\u001b[0m\u001b[0mkwargs\u001b[0m\u001b[0;34m)\u001b[0m\u001b[0;34m\u001b[0m\u001b[0;34m\u001b[0m\u001b[0m\n\u001b[0m\u001b[1;32m     32\u001b[0m             \u001b[0;32mif\u001b[0m \u001b[0m_hook_data\u001b[0m \u001b[0;32mis\u001b[0m \u001b[0;32mnot\u001b[0m \u001b[0;32mNone\u001b[0m\u001b[0;34m:\u001b[0m\u001b[0;34m\u001b[0m\u001b[0;34m\u001b[0m\u001b[0m\n\u001b[1;32m     33\u001b[0m                 \u001b[0mhook_data\u001b[0m \u001b[0;34m=\u001b[0m \u001b[0m_hook_data\u001b[0m\u001b[0;34m\u001b[0m\u001b[0;34m\u001b[0m\u001b[0m\n",
      "\u001b[0;32m~/.local/lib/python3.6/site-packages/ieeg/ieeg_api.py\u001b[0m in \u001b[0;36mraise_ieeg_exception\u001b[0;34m(response, *args, **kwargs)\u001b[0m\n\u001b[1;32m     74\u001b[0m                     response.status_code, response.text)\n\u001b[1;32m     75\u001b[0m \u001b[0;34m\u001b[0m\u001b[0m\n\u001b[0;32m---> 76\u001b[0;31m             \u001b[0;32mraise\u001b[0m \u001b[0mIeegConnectionError\u001b[0m\u001b[0;34m(\u001b[0m\u001b[0mresponse\u001b[0m\u001b[0;34m.\u001b[0m\u001b[0mtext\u001b[0m\u001b[0;34m)\u001b[0m\u001b[0;34m\u001b[0m\u001b[0;34m\u001b[0m\u001b[0m\n\u001b[0m\u001b[1;32m     77\u001b[0m \u001b[0;34m\u001b[0m\u001b[0m\n\u001b[1;32m     78\u001b[0m     \u001b[0;32mdef\u001b[0m \u001b[0mclose\u001b[0m\u001b[0;34m(\u001b[0m\u001b[0mself\u001b[0m\u001b[0;34m)\u001b[0m\u001b[0;34m:\u001b[0m\u001b[0;34m\u001b[0m\u001b[0;34m\u001b[0m\u001b[0m\n",
      "\u001b[0;31mIeegConnectionError\u001b[0m: "
     ]
    }
   ],
   "source": [
    "for i,pt in patient_table.iloc[[-5,-2,-1],:].iterrows():\n",
    "    for ieeg_pt in pt.ieeg_ids:\n",
    "        # try:\n",
    "            save_path = ospj(raw_datapath,pt.ptID)\n",
    "            print(ieeg_pt,save_path)\n",
    "            if not ospe(save_path):\n",
    "                os.makedirs(save_path)\n",
    "            wagon = Pioneer(usr,passpath,ieeg_pt)\n",
    "            wagon.pull_annotations()\n",
    "            wagon.filter_seizure_annotations()\n",
    "            wagon.seizure_annotations.to_csv(ospj(save_path,f'seizure_annotations_{ieeg_pt}.csv'))\n",
    "        # except:\n",
    "        #     continue"
   ]
  },
  {
   "attachments": {},
   "cell_type": "markdown",
   "metadata": {},
   "source": [
    "#### Goal of next section is to make a csv containing all of the seizure times for each of these patients. The csv should contain HUPID, EEC, UEO, flag for stim or not, "
   ]
  },
  {
   "cell_type": "code",
   "execution_count": null,
   "metadata": {},
   "outputs": [],
   "source": []
  }
 ],
 "metadata": {
  "kernelspec": {
   "display_name": "Python 3",
   "language": "python",
   "name": "python3"
  },
  "language_info": {
   "codemirror_mode": {
    "name": "ipython",
    "version": 3
   },
   "file_extension": ".py",
   "mimetype": "text/x-python",
   "name": "python",
   "nbconvert_exporter": "python",
   "pygments_lexer": "ipython3",
   "version": "3.6.15"
  },
  "vscode": {
   "interpreter": {
    "hash": "767d51c1340bd893661ea55ea3124f6de3c7a262a8b4abca0554b478b1e2ff90"
   }
  }
 },
 "nbformat": 4,
 "nbformat_minor": 2
}
