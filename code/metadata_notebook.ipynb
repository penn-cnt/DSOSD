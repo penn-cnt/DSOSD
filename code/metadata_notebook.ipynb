{
 "cells": [
  {
   "cell_type": "markdown",
   "metadata": {},
   "source": [
    "# Metadata Extraction and Analysis"
   ]
  },
  {
   "cell_type": "markdown",
   "metadata": {},
   "source": [
    "## Imports and dataloading"
   ]
  },
  {
   "cell_type": "code",
   "execution_count": 1,
   "metadata": {},
   "outputs": [],
   "source": [
    "import numpy as np\n",
    "import pandas as pd\n",
    "import json\n",
    "import seaborn as sns\n",
    "import matplotlib.pyplot as plt\n",
    "from ieeg.auth import Session\n",
    "from scipy import signal as sig\n",
    "import os\n",
    "from os.path import join as ospj\n",
    "from os.path import exists as ospe\n",
    "import pathlib\n",
    "from tqdm import tqdm"
   ]
  },
  {
   "cell_type": "code",
   "execution_count": 2,
   "metadata": {},
   "outputs": [],
   "source": [
    "import sys\n",
    "sys.path.append('/users/wojemann/iEEG_processing')\n",
    "from pioneer import Pioneer"
   ]
  },
  {
   "cell_type": "code",
   "execution_count": 3,
   "metadata": {},
   "outputs": [],
   "source": [
    "with open('config.json','r') as f:\n",
    "    CONFIG = json.load(f)\n",
    "usr = CONFIG[\"paths\"][\"iEEG_USR\"]\n",
    "passpath = CONFIG[\"paths\"][\"iEEG_PWD\"]\n",
    "raw_datapath = CONFIG[\"paths\"][\"RAW_DATA\"]\n",
    "pro_datapath = CONFIG[\"paths\"][\"PROCESSED_DATA\"]\n",
    "figpath = CONFIG[\"paths\"][\"FIGURES\"]\n",
    "patient_table = pd.DataFrame(CONFIG[\"patients\"]).sort_values('ptID')\n",
    "rid_hup = pd.read_csv(ospj(raw_datapath,'rid_hup.csv'))\n",
    "pt_list = patient_table.ptID.to_numpy()"
   ]
  },
  {
   "cell_type": "code",
   "execution_count": 4,
   "metadata": {},
   "outputs": [
    {
     "data": {
      "text/plain": [
       "array(['CHOP005', 'CHOP010', 'CHOP015', 'CHOP024', 'CHOP026', 'CHOP028',\n",
       "       'CHOP035', 'CHOP036', 'CHOP037', 'CHOP038', 'CHOP041', 'CHOP044',\n",
       "       'CHOP045', 'CHOP046', 'HUP224', 'HUP225', 'HUP229', 'HUP230',\n",
       "       'HUP235', 'HUP238', 'HUP246', 'HUP247', 'HUP249', 'HUP250',\n",
       "       'HUP253', 'HUP257', 'HUP261', 'HUP263', 'HUP266', 'HUP267',\n",
       "       'HUP273'], dtype=object)"
      ]
     },
     "execution_count": 4,
     "metadata": {},
     "output_type": "execute_result"
    }
   ],
   "source": [
    "pt_list"
   ]
  },
  {
   "cell_type": "markdown",
   "metadata": {},
   "source": [
    "## Creating annotation assignments"
   ]
  },
  {
   "cell_type": "code",
   "execution_count": 5,
   "metadata": {},
   "outputs": [
    {
     "data": {
      "text/html": [
       "<div>\n",
       "<style scoped>\n",
       "    .dataframe tbody tr th:only-of-type {\n",
       "        vertical-align: middle;\n",
       "    }\n",
       "\n",
       "    .dataframe tbody tr th {\n",
       "        vertical-align: top;\n",
       "    }\n",
       "\n",
       "    .dataframe thead th {\n",
       "        text-align: right;\n",
       "    }\n",
       "</style>\n",
       "<table border=\"1\" class=\"dataframe\">\n",
       "  <thead>\n",
       "    <tr style=\"text-align: right;\">\n",
       "      <th></th>\n",
       "      <th>Patient</th>\n",
       "      <th>IEEGname</th>\n",
       "      <th>approximate_onset</th>\n",
       "      <th>end</th>\n",
       "      <th>stim</th>\n",
       "      <th>stim_channels</th>\n",
       "      <th>annotators</th>\n",
       "    </tr>\n",
       "  </thead>\n",
       "  <tbody>\n",
       "    <tr>\n",
       "      <th>0</th>\n",
       "      <td>HUP224</td>\n",
       "      <td>HUP224_phaseII</td>\n",
       "      <td>71156.59</td>\n",
       "      <td>71190.99</td>\n",
       "      <td>1.0</td>\n",
       "      <td>LB1-LB2</td>\n",
       "      <td></td>\n",
       "    </tr>\n",
       "    <tr>\n",
       "      <th>1</th>\n",
       "      <td>HUP224</td>\n",
       "      <td>HUP224_phaseII</td>\n",
       "      <td>339135.86</td>\n",
       "      <td>339234.20</td>\n",
       "      <td>0.0</td>\n",
       "      <td>NaN</td>\n",
       "      <td></td>\n",
       "    </tr>\n",
       "    <tr>\n",
       "      <th>2</th>\n",
       "      <td>HUP224</td>\n",
       "      <td>HUP224_phaseII</td>\n",
       "      <td>491462.51</td>\n",
       "      <td>491541.43</td>\n",
       "      <td>0.0</td>\n",
       "      <td>NaN</td>\n",
       "      <td></td>\n",
       "    </tr>\n",
       "    <tr>\n",
       "      <th>3</th>\n",
       "      <td>HUP224</td>\n",
       "      <td>HUP224_phaseII</td>\n",
       "      <td>519177.95</td>\n",
       "      <td>519258.16</td>\n",
       "      <td>0.0</td>\n",
       "      <td>NaN</td>\n",
       "      <td></td>\n",
       "    </tr>\n",
       "    <tr>\n",
       "      <th>4</th>\n",
       "      <td>HUP225</td>\n",
       "      <td>HUP225_phaseII</td>\n",
       "      <td>159833.84</td>\n",
       "      <td>159913.05</td>\n",
       "      <td>1.0</td>\n",
       "      <td>RC1-RC2</td>\n",
       "      <td></td>\n",
       "    </tr>\n",
       "  </tbody>\n",
       "</table>\n",
       "</div>"
      ],
      "text/plain": [
       "  Patient        IEEGname  approximate_onset        end  stim stim_channels  \\\n",
       "0  HUP224  HUP224_phaseII           71156.59   71190.99   1.0       LB1-LB2   \n",
       "1  HUP224  HUP224_phaseII          339135.86  339234.20   0.0           NaN   \n",
       "2  HUP224  HUP224_phaseII          491462.51  491541.43   0.0           NaN   \n",
       "3  HUP224  HUP224_phaseII          519177.95  519258.16   0.0           NaN   \n",
       "4  HUP225  HUP225_phaseII          159833.84  159913.05   1.0       RC1-RC2   \n",
       "\n",
       "  annotators  \n",
       "0             \n",
       "1             \n",
       "2             \n",
       "3             \n",
       "4             "
      ]
     },
     "execution_count": 5,
     "metadata": {},
     "output_type": "execute_result"
    }
   ],
   "source": [
    "seizures_df = pd.read_csv(ospj(raw_datapath,'stim_seizure_information - LF_seizure_annotation.csv'))\n",
    "seizures_df = seizures_df[~seizures_df.Patient.isin([\"HUP235\",\"HUP238\",\"HUP246\",\"HUP261\"])]\n",
    "seizures_df = seizures_df[seizures_df['to_annotate']==1]\n",
    "seizures_df['annotators'] = \"\"\n",
    "seizures_df['approximate_onset'].fillna(seizures_df['UEO'],inplace=True)\n",
    "seizures_df['approximate_onset'].fillna(seizures_df['EEC'],inplace=True)\n",
    "seizures_df['approximate_onset'].fillna(seizures_df['Other_onset_description'],inplace=True)\n",
    "seizures_df = seizures_df.drop(['to_annotate','Notes','source','EEC onset channels','UEO onset channels','EEC','UEO','Other_onset_description'],axis=1).reset_index(drop=True)\n",
    "seizures_df.head()"
   ]
  },
  {
   "cell_type": "code",
   "execution_count": 6,
   "metadata": {},
   "outputs": [
    {
     "name": "stdout",
     "output_type": "stream",
     "text": [
      "{'CK': 34, 'EC': 42, 'DZ': 33, 'JJ': 35, 'JK': 36}\n"
     ]
    }
   ],
   "source": [
    "# Assuming you have a DataFrame named 'seizures_df' containing seizure data\n",
    "# And a list of annotators initials 2,5\n",
    "np.random.seed(10)\n",
    "annotators = ['CK','EC','DZ','JJ','JK']\n",
    "annotation_counts = {key: 0 for key in annotators}\n",
    "def calc_weights(annotation_counts):\n",
    "    weights = [1/(1+value) for value in annotation_counts.values()]\n",
    "    tot_weight = sum(weights)\n",
    "    return [w/tot_weight for w in weights]\n",
    "\n",
    "# Assuming 'seizures_df' contains a column 'patient_id' indicating the patient ID for each seizure\n",
    "# We'll first group seizures by patient_id\n",
    "grouped_seizures = seizures_df.groupby('Patient')\n",
    "\n",
    "# Dictionary to store DataFrames for each annotator\n",
    "annotator_dfs = {}\n",
    "\n",
    "# Create Primary DF that contains all seizures from all patients with all annotators per seizure\n",
    "# Iterate over each patient group\n",
    "for patient_id, patient_group in grouped_seizures:\n",
    "    num_seizures = len(patient_group)\n",
    "    # Randomly assign 3 annotators to the patient\n",
    "    weights = calc_weights(annotation_counts)\n",
    "    assigned_annotators = np.random.choice(annotators, size=3, replace=False,p=weights)\n",
    "    annot_str = str(assigned_annotators)\n",
    "    \n",
    "    annotator_list = np.repeat(annot_str,num_seizures,0)\n",
    "    # if len(annotator_list.shape) < 2:\n",
    "    #     annotator_list = np.expand_dims(annotator_list,0)\n",
    "    \n",
    "    seizures_df.iloc[seizures_df.Patient == patient_id,-1] = annotator_list\n",
    "    # Repeat the annotators for each seizure in the patient group\n",
    "    for annotator in assigned_annotators:\n",
    "        annotation_counts[annotator] += len(patient_group)\n",
    "        if annotator in annotator_dfs.keys():\n",
    "            annotator_dfs[annotator] = pd.concat([annotator_dfs[annotator],patient_group])\n",
    "        else:\n",
    "            annotator_dfs[annotator] = patient_group\n",
    "print(annotation_counts)"
   ]
  },
  {
   "cell_type": "code",
   "execution_count": 18,
   "metadata": {},
   "outputs": [],
   "source": [
    "for key in annotator_dfs.keys():\n",
    "    annotator_dfs[key][[\"UEO_time\",\"UEO_ch\",\"10sec_ch\"]] = \"\"\n",
    "    annotator_dfs[key].to_csv(ospj(pro_datapath,f\"stim_seizure_annotations_{key}.csv\"),index=False)\n",
    "seizures_df.to_csv(ospj(pro_datapath,\"LF_seizure_annotations_wannotator.csv\"),index=False)"
   ]
  },
  {
   "cell_type": "markdown",
   "metadata": {},
   "source": [
    "## Extracting seizure annotations from iEEG"
   ]
  },
  {
   "cell_type": "code",
   "execution_count": 5,
   "metadata": {},
   "outputs": [
    {
     "name": "stdout",
     "output_type": "stream",
     "text": [
      "HUP273_phaseII /mnt/leif/littlab/users/wojemann/stim-seizures/RAW_DATA/HUP273\n",
      "got 100 annotations on call # 1 covering 9805203125 usec to 74014621448 usec\n",
      "got 65 annotations on call # 2 covering 74014621448 usec to 97808167910 usec\n",
      "Filtered       9.76% of all annotations\n",
      "HUP273b_phaseII /mnt/leif/littlab/users/wojemann/stim-seizures/RAW_DATA/HUP273\n"
     ]
    },
    {
     "name": "stderr",
     "output_type": "stream",
     "text": [
      "/users/wojemann/iEEG_processing/pioneer.py:199: SettingWithCopyWarning: \n",
      "A value is trying to be set on a copy of a slice from a DataFrame.\n",
      "Try using .loc[row_indexer,col_indexer] = value instead\n",
      "\n",
      "See the caveats in the documentation: https://pandas.pydata.org/pandas-docs/stable/user_guide/indexing.html#returning-a-view-versus-a-copy\n",
      "  filtered_annotations['IEEG Time'] = t_sec\n"
     ]
    },
    {
     "name": "stdout",
     "output_type": "stream",
     "text": [
      "got 100 annotations on call # 1 covering 119970703 usec to 76641360152 usec\n",
      "got 100 annotations on call # 2 covering 77511313277 usec to 171766735765 usec\n",
      "got 100 annotations on call # 3 covering 172880747484 usec to 288824902427 usec\n",
      "got 100 annotations on call # 4 covering 290354086021 usec to 389636631408 usec\n",
      "got 100 annotations on call # 5 covering 391483348205 usec to 540753506744 usec\n",
      "got 100 annotations on call # 6 covering 548032590729 usec to 641315553780 usec\n",
      "got 78 annotations on call # 7 covering 644557969795 usec to 756408821085 usec\n",
      "Filtered       9.45% of all annotations\n",
      "HUP273c_phaseII /mnt/leif/littlab/users/wojemann/stim-seizures/RAW_DATA/HUP273\n",
      "got 100 annotations on call # 1 covering 6250000 usec to 45592894531 usec\n",
      "got 100 annotations on call # 2 covering 45600326171 usec to 117556341176 usec\n",
      "got 100 annotations on call # 3 covering 117570087269 usec to 184395595421 usec\n",
      "got 100 annotations on call # 4 covering 185933950890 usec to 233291249718 usec\n",
      "got 100 annotations on call # 5 covering 233297718468 usec to 297384424644 usec\n",
      "got 100 annotations on call # 6 covering 297464293784 usec to 359195766773 usec\n",
      "got 100 annotations on call # 7 covering 359863555836 usec to 430792598264 usec\n",
      "got 100 annotations on call # 8 covering 431984774586 usec to 534605373373 usec\n",
      "got 100 annotations on call # 9 covering 535205515951 usec to 691230029100 usec\n",
      "got 54 annotations on call # 10 covering 693008173631 usec to 792633133632 usec\n",
      "Filtered       8.97% of all annotations\n",
      "HUP273_CCEP /mnt/leif/littlab/users/wojemann/stim-seizures/RAW_DATA/HUP273\n",
      "got 100 annotations on call # 1 covering 15943357421 usec to 16792765625 usec\n",
      "got 100 annotations on call # 2 covering 16794166015 usec to 17733458984 usec\n",
      "got 100 annotations on call # 3 covering 17750166015 usec to 18715769531 usec\n",
      "got 100 annotations on call # 4 covering 18715777343 usec to 19607166015 usec\n",
      "got 100 annotations on call # 5 covering 19639166015 usec to 20591166015 usec\n",
      "got 100 annotations on call # 6 covering 20612166015 usec to 21671998046 usec\n",
      "got 53 annotations on call # 7 covering 21672019531 usec to 22721166015 usec\n",
      "Filtered       7.79% of all annotations\n"
     ]
    }
   ],
   "source": [
    "for i,pt in patient_table.iloc[[-1],:].iterrows():\n",
    "    for ieeg_pt in pt.ieeg_ids:\n",
    "        # try:\n",
    "            save_path = ospj(raw_datapath,pt.ptID)\n",
    "            print(ieeg_pt,save_path)\n",
    "            if not ospe(save_path):\n",
    "                os.makedirs(save_path)\n",
    "            wagon = Pioneer(usr,passpath,ieeg_pt)\n",
    "            wagon.pull_annotations()\n",
    "            wagon.filter_seizure_annotations()\n",
    "            wagon.seizure_annotations.to_csv(ospj(save_path,f'seizure_annotations_{ieeg_pt}.csv'))\n",
    "        # except:\n",
    "        #     continue"
   ]
  }
 ],
 "metadata": {
  "kernelspec": {
   "display_name": "Python 3",
   "language": "python",
   "name": "python3"
  },
  "language_info": {
   "codemirror_mode": {
    "name": "ipython",
    "version": 3
   },
   "file_extension": ".py",
   "mimetype": "text/x-python",
   "name": "python",
   "nbconvert_exporter": "python",
   "pygments_lexer": "ipython3",
   "version": "3.6.15"
  },
  "vscode": {
   "interpreter": {
    "hash": "767d51c1340bd893661ea55ea3124f6de3c7a262a8b4abca0554b478b1e2ff90"
   }
  }
 },
 "nbformat": 4,
 "nbformat_minor": 2
}
