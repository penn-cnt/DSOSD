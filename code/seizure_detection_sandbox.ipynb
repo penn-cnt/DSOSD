{
  "cells": [
    {
      "cell_type": "markdown",
      "metadata": {},
      "source": [
        "# Seizure detection sandbox"
      ]
    },
    {
      "cell_type": "markdown",
      "metadata": {},
      "source": [
        "## Workspace Preparation"
      ]
    },
    {
      "cell_type": "code",
      "execution_count": 1,
      "metadata": {
        "colab": {
          "base_uri": "https://localhost:8080/"
        },
        "id": "w_DZLKQc_Xtt",
        "outputId": "ea338362-9457-4c5f-cb3b-5afc167415b2"
      },
      "outputs": [],
      "source": [
        "# iEEG imports\n",
        "from ieeg.auth import Session\n",
        "\n",
        "# Scientific computing imports\n",
        "import numpy as np\n",
        "import scipy as sc\n",
        "import pandas as pd\n",
        "import json\n",
        "from scipy.linalg import hankel\n",
        "from tqdm import tqdm\n",
        "from sklearn.metrics import recall_score\n",
        "from sklearn.metrics import precision_score\n",
        "\n",
        "# Plotting\n",
        "import matplotlib.pyplot as plt\n",
        "import seaborn as sns\n",
        "from sklearn.metrics import confusion_matrix, ConfusionMatrixDisplay\n",
        "\n",
        "# Imports for deep learning\n",
        "import random\n",
        "import torch\n",
        "import torch.nn as nn\n",
        "import torch.optim as optim\n",
        "from torch.utils.data import DataLoader, TensorDataset\n",
        "\n",
        "# OS imports\n",
        "import os\n",
        "from os.path import join as ospj\n",
        "from os.path import exists as ospe\n",
        "from utils import *\n",
        "import sys\n",
        "sys.path.append('/users/wojemann/iEEG_processing')\n"
      ]
    },
    {
      "cell_type": "code",
      "execution_count": 2,
      "metadata": {},
      "outputs": [],
      "source": [
        "with open('config.json','r') as f:\n",
        "    CONFIG = json.load(f)\n",
        "usr = CONFIG[\"paths\"][\"iEEG_USR\"]\n",
        "passpath = CONFIG[\"paths\"][\"iEEG_PWD\"]\n",
        "datapath = CONFIG[\"paths\"][\"RAW_DATA\"]\n",
        "patient_table = pd.DataFrame(CONFIG[\"patients\"]).sort_values('ptID')\n",
        "rid_hup = pd.read_csv(ospj(datapath,'rid_hup.csv'))\n",
        "pt_list = patient_table.ptID.to_numpy()"
      ]
    },
    {
      "cell_type": "code",
      "execution_count": 3,
      "metadata": {
        "id": "Wf9f2L2bTVay"
      },
      "outputs": [],
      "source": [
        "def set_seed(seed):\n",
        "  np.random.seed(seed)\n",
        "  torch.manual_seed(seed)\n",
        "  random.seed(seed)\n",
        "set_seed(5210)"
      ]
    },
    {
      "cell_type": "code",
      "execution_count": 4,
      "metadata": {
        "id": "nOwbssjR8b66"
      },
      "outputs": [],
      "source": [
        "set_seed(5210)"
      ]
    },
    {
      "cell_type": "code",
      "execution_count": 5,
      "metadata": {},
      "outputs": [],
      "source": [
        "pt = 'HUP235'"
      ]
    },
    {
      "cell_type": "markdown",
      "metadata": {},
      "source": [
        "## Defining Model Architectures"
      ]
    },
    {
      "cell_type": "code",
      "execution_count": 6,
      "metadata": {
        "id": "lXw8wnl4_mN7"
      },
      "outputs": [],
      "source": [
        "# Define LSTM model\n",
        "class LSTMModel(nn.Module):\n",
        "    def __init__(self, input_size, hidden_size, output_size):\n",
        "        super(LSTMModel, self).__init__()\n",
        "        self.lstm = nn.LSTM(input_size, hidden_size, batch_first=True)\n",
        "        self.fc = nn.Linear(hidden_size, output_size)\n",
        "\n",
        "    def forward(self, x):\n",
        "        out, _ = self.lstm(x)\n",
        "        out = self.fc(out[:, -1,:])\n",
        "        return out\n",
        "\n",
        "class LRModel(nn.Module):\n",
        "    def __init__(self, input_size, output_size):\n",
        "        super(LRModel, self).__init__()\n",
        "        self.linear = nn.Linear(input_size, output_size)\n",
        "\n",
        "    def forward(self, x):\n",
        "        # Flatten the input along the 'sequence length' dimension\n",
        "        x = x.squeeze()\n",
        "        out = self.linear(x)\n",
        "        return out\n"
      ]
    },
    {
      "cell_type": "markdown",
      "metadata": {},
      "source": [
        "## Pulling Ictal Data"
      ]
    },
    {
      "cell_type": "code",
      "execution_count": 7,
      "metadata": {},
      "outputs": [],
      "source": [
        " # Defining paths for saved data\n",
        "raw_datapath = ospj(datapath,pt)\n",
        "if not os.path.exists(ospj(raw_datapath, \"seizures\")):\n",
        "    os.mkdir(ospj(raw_datapath, \"seizures\"))"
      ]
    },
    {
      "cell_type": "code",
      "execution_count": 8,
      "metadata": {
        "colab": {
          "base_uri": "https://localhost:8080/",
          "height": 204
        },
        "id": "8Q0XEopX0bQm",
        "outputId": "3ad75493-6522-4af1-ae9a-8f0316c884f3"
      },
      "outputs": [],
      "source": [
        "seizure_times = pd.read_csv('../HUP235_seizure_times.csv')"
      ]
    },
    {
      "cell_type": "code",
      "execution_count": 9,
      "metadata": {
        "id": "5JIzrsxp8nVp"
      },
      "outputs": [
        {
          "name": "stdout",
          "output_type": "stream",
          "text": [
            "['LA01', 'LA02', 'LA03', 'LA04', 'LA05', 'LA06', 'LA07', 'LA08', 'LA09', 'LA10', 'LA11', 'LA12', 'LB01', 'LB02', 'LB03', 'LB04', 'LB05', 'LB06', 'LB07', 'LB08', 'LB09', 'LB10', 'LB11', 'LB12', 'LC01', 'LC02', 'LC03', 'LC04', 'LC05', 'LC06', 'LC07', 'LC08', 'LC09', 'LC10', 'LC11', 'LC12', 'LI01', 'LI02', 'LI03', 'LI04', 'LI05', 'LI06', 'LI07', 'LI08', 'LI09', 'LI10', 'LI11', 'LOC', 'LQ01', 'LQ02', 'LQ03', 'LQ04', 'LQ05', 'LQ06', 'LQ07', 'LQ08', 'LQ09', 'LQ10', 'LQ12', 'LS01', 'LS02', 'LS03', 'LS04', 'LS05', 'LS06', 'LS07', 'LS08', 'LS09', 'LS10', 'LS11', 'LS12', 'LY01', 'LY02', 'LY03', 'LY04', 'LY05', 'LY06', 'LY07', 'LY08', 'LY09', 'LY10', 'LY11', 'LY12', 'LZ01', 'LZ02', 'LZ03', 'LZ04', 'LZ05', 'LZ06', 'LZ07', 'LZ08', 'LZ09', 'LZ10', 'LZ11', 'LZ12', 'ROC']\n"
          ]
        }
      ],
      "source": [
        "# access iEEG\n",
        "with open('woj_ieeglogin.bin', 'r') as f:\n",
        "  session = Session('wojemann', f.read())\n",
        "ds = session.open_dataset('HUP235_phaseII')\n",
        "\n",
        "# get labels and time series info\n",
        "chn_labels = clean_labels(ds.get_channel_labels(),'HUP235')\n",
        "chn_labels = [l for l in chn_labels if l not in ['Cz','Fz']]\n",
        "print(chn_labels)\n",
        "timeseries = ds.get_time_series_details('LC01')\n",
        "\n",
        "#get the sampling frequency\n",
        "fs = timeseries.sample_rate"
      ]
    },
    {
      "cell_type": "code",
      "execution_count": 15,
      "metadata": {},
      "outputs": [
        {
          "name": "stdout",
          "output_type": "stream",
          "text": [
            "Saving seizure number: 0\n",
            "Saving seizure number: 5\n",
            "Saving seizure number: 9\n"
          ]
        }
      ],
      "source": [
        "# Iterate through each seizure and run Andy's preprocessing and save it\n",
        "for i_sz,row in seizure_times.iterrows():\n",
        "    if i_sz not in [0,5,9]:\n",
        "        continue\n",
        "    print(f\"Saving seizure number: {i_sz}\")\n",
        "    seizure,fs = get_iEEG_data(usr,'woj_ieeglogin.bin',\n",
        "                                row.iEEG_ID,\n",
        "                                (row.Onset-60)*1e6,\n",
        "                                (row.Offset+60)*1e6,\n",
        "                                chn_labels,\n",
        "                                force_pull = True)\n",
        "    chs = seizure.columns.to_list()\n",
        "    ch_df = check_channel_types(chs)\n",
        "    # plot_iEEG_data(seizure,np.arange(len(seizure))/fs)\n",
        "    # Bipolar montage\n",
        "    seizure_bp_np,bp_ch_df = bipolar_montage(seizure.to_numpy().T,ch_df)\n",
        "    bp_ch = bp_ch_df.name.to_numpy()\n",
        "    # plot_iEEG_data(pd.DataFrame(seizure_bp_np.T,columns=bp_ch),np.arange(len(seizure))/fs)\n",
        "    # Bandpass filtering\n",
        "    b,a = sc.signal.butter(4,[3,58],btype='bandpass',fs = fs)\n",
        "    seizure_bp_filt = sc.signal.filtfilt(b,a,seizure_bp_np,axis=1)\n",
        "    # Down sampling\n",
        "    factor = 4\n",
        "    seizure_bpd = sc.signal.decimate(seizure_bp_filt,4).T\n",
        "    fsd = fs/4\n",
        "    seizure_bpd_df = pd.DataFrame(seizure_bpd,columns = bp_ch)\n",
        "    # plot_iEEG_data(pd.DataFrame(seizure_bpd,columns=bp_ch),np.arange(len(seizure_bpd))/fsd)\n",
        "    seizure_bpd_df.to_pickle(ospj(raw_datapath,\"seizures\",f\"det256_seizure_{i_sz}_stim_{0}.pkl\"))"
      ]
    },
    {
      "cell_type": "markdown",
      "metadata": {},
      "source": [
        "## Training Unsupervised Models"
      ]
    },
    {
      "cell_type": "markdown",
      "metadata": {},
      "source": [
        "In this section I need to create a model for each channel. The current plan is to pull ten seconds of data per channel and then train an autoregressive model per channel. Each of these models would be saved into a dictionary keyed to the channel name. Another idea would be to have just one model that operates on all channels at the same time and even allows cross talk. Starting with the second idea."
      ]
    },
    {
      "cell_type": "code",
      "execution_count": 21,
      "metadata": {
        "id": "wesQIbi-CTMp"
      },
      "outputs": [],
      "source": [
        "d = ds.get_data(60000*1e6,\n",
        " (seizure_times.loc[0,'Offset']-seizure_times.loc[0,'Onset'])*1e6,\n",
        "  [chn_labels.index('LC01')])\n",
        "d_ictal = ds.get_data(seizure_times.loc[0,'Onset']*1e6,\n",
        " (seizure_times.loc[0,'Offset']-seizure_times.loc[0,'Onset'])*1e6,\n",
        "  [chn_labels.index('LC01')])"
      ]
    },
    {
      "cell_type": "code",
      "execution_count": 22,
      "metadata": {
        "colab": {
          "base_uri": "https://localhost:8080/",
          "height": 514
        },
        "id": "abQK2t7VCmjj",
        "outputId": "43629309-2661-45ba-db9d-4a012a72cb4b"
      },
      "outputs": [
        {
          "data": {
            "text/plain": [
              "Text(0.5, 0.98, 'HUP235 - LC01')"
            ]
          },
          "execution_count": 22,
          "metadata": {},
          "output_type": "execute_result"
        },
        {
          "data": {
            "image/png": "[encoded data removed]",
            "text/plain": [
              "<Figure size 640x480 with 2 Axes>"
            ]
          },
          "metadata": {},
          "output_type": "display_data"
        }
      ],
      "source": [
        "t = np.arange(len(d))/fs\n",
        "fig,axs = plt.subplots(1,2)\n",
        "axs[0].plot(t,d,'black')\n",
        "axs[0].set_ylim([-2500,2500])\n",
        "axs[0].set_title('Interictal')\n",
        "axs[0].set_xlabel('Time (s)')\n",
        "axs[0].set_ylabel('Amplitude (uV)')\n",
        "axs[1].plot(t,d_ictal,'black')\n",
        "axs[1].set_yticks([])\n",
        "axs[1].set_title('Ictal')\n",
        "axs[1].set_xlabel('Time (s)')\n",
        "axs[1].set_ylim([-2500,2500])\n",
        "\n",
        "plt.suptitle('HUP235 - LC01')"
      ]
    },
    {
      "cell_type": "markdown",
      "metadata": {
        "id": "f2iRCd3X5Sfj"
      },
      "source": [
        "In the plot of the interictal clip, you can see what we call an epileptiform spike around 4 seconds in. Why might it cause problems if we train our seizure detection algorithm on a window containing the spike? (1 pts)"
      ]
    },
    {
      "cell_type": "markdown",
      "metadata": {
        "id": "cpgXeJbmn5T1"
      },
      "source": [
        "### 2 (5 pts)\n",
        "\n",
        "Now that we have real EEG data, we'll be using the model architecture that we developed in the previous section to build a seizure detector. Before we train and test our deep learning models, we need to prepare our training data. We're going to use the first second of the interictal clip at 60000s as our training data."
      ]
    },
    {
      "cell_type": "markdown",
      "metadata": {
        "id": "nJO3a8NyoV08"
      },
      "source": [
        "#### 2a\n",
        "Downsample the training sample to 512Hz, and build a hankel matrix for the first channel, `LC01`, based on 12 input samples and 1 output sample (the same as the first section). Plot the downsampled EEG clip and print the shape of your hankel matrix (2 pts)."
      ]
    },
    {
      "cell_type": "code",
      "execution_count": null,
      "metadata": {
        "colab": {
          "base_uri": "https://localhost:8080/",
          "height": 447
        },
        "id": "E9Ske_Fp_3b0",
        "outputId": "736a6590-beec-4b32-a29a-c3485ebfd012"
      },
      "outputs": [],
      "source": [
        "# Downsampling\n",
        "dds = sc.signal.decimate(d.T,2).T\n",
        "# Getting first second\n",
        "dsec = dds[:512]\n",
        "# Plotting\n",
        "plt.plot(dsec)"
      ]
    },
    {
      "cell_type": "code",
      "execution_count": null,
      "metadata": {
        "colab": {
          "base_uri": "https://localhost:8080/"
        },
        "id": "5yx_Vamv_irc",
        "outputId": "89b0d189-d2ce-4e0b-d762-aa5f6f12d8d1"
      },
      "outputs": [],
      "source": [
        "train_win =25\n",
        "pred_win = 1\n",
        "j = len(dsec)-(train_win+pred_win)\n",
        "data_mat = torch.tensor(hankel(dsec[:j],dsec[j:])).unsqueeze(2)\n",
        "print(data_mat.shape)"
      ]
    },
    {
      "cell_type": "markdown",
      "metadata": {
        "id": "T11faaZGhJRI"
      },
      "source": [
        "#### 2b\n",
        "Now let's do the machine learning part again! You can use your same code from part one to create input and target data, initialize the dataloader, and initialize the model. Then run the training loop to train a new model for the one-second interictal clip while again printing out the loss every 10 epochs. (3 pts)\n",
        "\n",
        "Hint: The final loss should be around 6459.4541, much higher than when training on a perfect oscillator like before!"
      ]
    },
    {
      "cell_type": "code",
      "execution_count": null,
      "metadata": {
        "id": "KoOL5IXT_lpj"
      },
      "outputs": [],
      "source": [
        "# Prepare input and target data for the LSTM\n",
        "input_data = data_mat[:,:-1,:].float()\n",
        "target_data = data_mat[:,-1,:].float()\n",
        "\n",
        "dataset = TensorDataset(input_data, target_data)\n",
        "dataloader = DataLoader(dataset, batch_size=100, shuffle=False)\n",
        "\n",
        "# Instantiate the model\n",
        "input_size = input_data.shape[2]\n",
        "hidden_size = 100\n",
        "output_size = input_data.shape[2]"
      ]
    },
    {
      "cell_type": "code",
      "execution_count": null,
      "metadata": {
        "colab": {
          "base_uri": "https://localhost:8080/"
        },
        "id": "OlA5uzl1Av_u",
        "outputId": "60b2a057-e9a9-4b54-8dea-d0a6a5269b1b"
      },
      "outputs": [],
      "source": [
        "# Initialize the model\n",
        "# model = LSTMModel(input_size, hidden_size, output_size)\n",
        "model = LRModel(train_win,1)\n",
        "print(model)\n",
        "ccheck = torch.cuda.is_available()\n",
        "if ccheck:\n",
        "   model.cuda()\n",
        "# Define loss function and optimizer\n",
        "criterion = nn.MSELoss()\n",
        "optimizer = optim.Adam(model.parameters(), lr=0.001)"
      ]
    },
    {
      "cell_type": "code",
      "execution_count": null,
      "metadata": {
        "colab": {
          "base_uri": "https://localhost:8080/"
        },
        "id": "afIFnZuPAwld",
        "outputId": "e979515c-3840-4a24-a13a-0509c54e7963"
      },
      "outputs": [],
      "source": [
        "# Training loop\n",
        "num_epochs = 300\n",
        "for epoch in range(num_epochs):\n",
        "    for inputs, targets in dataloader:\n",
        "        if ccheck:\n",
        "            inputs = inputs.cuda()\n",
        "            targets = targets.cuda()\n",
        "        optimizer.zero_grad()\n",
        "        outputs = model(inputs)\n",
        "        loss = criterion(outputs, targets)\n",
        "        loss.backward()\n",
        "        optimizer.step()\n",
        "    if epoch % 10 == 9:\n",
        "      print(f'Epoch [{epoch+1}/{num_epochs}], Loss: {loss.item():.4f}')"
      ]
    },
    {
      "cell_type": "code",
      "execution_count": null,
      "metadata": {
        "id": "Ebr_WEZw_yz9"
      },
      "outputs": [],
      "source": [
        "def predict(model, clip, ins = train_win, outs = 1):\n",
        "    j = len(clip)-(ins + outs)\n",
        "    data_mat = torch.tensor(hankel(clip[:j],clip[j:])).unsqueeze(2)\n",
        "\n",
        "    dataset = TensorDataset(data_mat[:,:-outs,:].float(),data_mat[:,-outs,:].float())\n",
        "    dataloader = DataLoader(dataset,shuffle=False)\n",
        "    ccheck = torch.cuda.is_available()\n",
        "    if ccheck:\n",
        "        model.cuda()\n",
        "    with torch.no_grad():\n",
        "        model.eval()\n",
        "        mse_distribution = []\n",
        "        for inputs, targets in dataloader:\n",
        "            if ccheck:\n",
        "                inputs = inputs.cuda()\n",
        "                targets = targets.cuda()\n",
        "            outputs = model(inputs)\n",
        "            mse = criterion(outputs, targets)\n",
        "            mse_distribution.append(mse.item())\n",
        "    return np.array(mse_distribution)"
      ]
    },
    {
      "cell_type": "code",
      "execution_count": null,
      "metadata": {
        "id": "RNl-wiJy-GuQ"
      },
      "outputs": [],
      "source": [
        "def predict_values(model, clip,ins = train_win, outs = 1):\n",
        "    j = len(clip)-(ins + outs)\n",
        "    data_mat = torch.tensor(hankel(clip[:j],clip[j:])).unsqueeze(2)\n",
        "\n",
        "    dataset = TensorDataset(data_mat[:,:-outs,:].float(),data_mat[:,-outs,:].float())\n",
        "    dataloader = DataLoader(dataset,shuffle=False)\n",
        "\n",
        "    with torch.no_grad():\n",
        "        model.eval()\n",
        "        predictions = []\n",
        "        for inputs, targets in dataloader:\n",
        "            outputs = model(inputs)\n",
        "            predictions.append(outputs.item())\n",
        "    return np.array(predictions)"
      ]
    },
    {
      "cell_type": "markdown",
      "metadata": {
        "id": "wgBE2-lFhxjJ"
      },
      "source": [
        "### 3 (7 pts)"
      ]
    },
    {
      "cell_type": "markdown",
      "metadata": {
        "id": "Ud2pUY4gZpWC"
      },
      "source": [
        "#### 3a\n",
        "Pull the first second of the first seizure in the csv, along with 1 second of interictal data starting at the given interictal time for the same seizure from `HUP235_phaseII` iEEG file. (2 pts)"
      ]
    },
    {
      "cell_type": "code",
      "execution_count": null,
      "metadata": {
        "id": "OGguxVMQJ7Le"
      },
      "outputs": [],
      "source": [
        "ictal = ds.get_data(seizure_times.loc[0,'Onset']*1e6,1*1e6,[chn_labels.index('LC01')])\n",
        "ictal = sc.signal.decimate(ictal.T,2).T\n",
        "\n",
        "inter = ds.get_data(seizure_times.loc[0,'Interictal']*1e6,1*1e6,[chn_labels.index('LC01')])\n",
        "inter = sc.signal.decimate(inter.T,2).T"
      ]
    },
    {
      "cell_type": "markdown",
      "metadata": {
        "id": "OppI5E5Ah9HQ"
      },
      "source": [
        "#### 3b\n",
        "Generate mse distributions for each of the three clips (training clip, interictal clip, ictal clip) using your predict function from section 1 (1 pt)."
      ]
    },
    {
      "cell_type": "code",
      "execution_count": null,
      "metadata": {
        "id": "2P6cWSorLLGm"
      },
      "outputs": [],
      "source": [
        "train_mse = predict(model,dsec)\n",
        "inter_mse = predict(model,inter)\n",
        "ictal_mse = predict(model,ictal)"
      ]
    },
    {
      "cell_type": "markdown",
      "metadata": {
        "id": "obn5t86Sh8VC"
      },
      "source": [
        "\n",
        "#### 3c\n",
        "Now, make three subplots in a 18 x 6 (W x H) figure: 1. plotting the interictal clip (blue) and ictal clip (red) with a legend (maintain this ictal/interictal color sceme through all three plots). 2. plot the loss of each clip with segments on the x axis and loss on the y axis. 3. Plot boxplots of the distributions of log-transformed MSE for the interictal and ictal clips, as well as an orange horizontal line at the 95th percentile of the loss the model generates on the TRAINING interictal clip (the one starting at 60000s). (4 pts)"
      ]
    },
    {
      "cell_type": "code",
      "execution_count": null,
      "metadata": {
        "colab": {
          "base_uri": "https://localhost:8080/",
          "height": 562
        },
        "id": "Gsn8kYQsLW2P",
        "outputId": "15abc89e-ab0d-4a84-df6d-b40cc6dc3361"
      },
      "outputs": [],
      "source": [
        "fig,ax = plt.subplots(1,3,figsize=(18,6))\n",
        "ax[0].plot(inter,c='blue',label='Interictal')\n",
        "ax[0].plot(ictal,c='red',label='Ictal')\n",
        "ax[0].legend()\n",
        "ax[0].set_title('EEG Signal')\n",
        "sns.scatterplot(inter_mse,c='blue',ax=ax[1])\n",
        "sns.scatterplot(ictal_mse,c='red',ax=ax[1])\n",
        "ax[1].set_title('Prediction Loss')\n",
        "ax[1].set_ylabel('Loss (MSE)')\n",
        "plot_data = {'interictal':inter_mse,'ictal':ictal_mse}\n",
        "pal = {'interictal':'blue','ictal':'red'}\n",
        "sns.boxplot(pd.DataFrame(plot_data),ax=ax[2],order=['interictal','ictal'],palette=pal)\n",
        "ax[2].set_yscale('log')\n",
        "ax[2].set_ylabel('Log Transformed MSE')\n",
        "ax[2].set_title('Loss Distributions')\n",
        "ax[2].axhline(np.percentile(train_mse,85),color='orange')"
      ]
    },
    {
      "cell_type": "markdown",
      "metadata": {
        "id": "QXtE8JOaTOZD"
      },
      "source": [
        "You can see from the plot, that the MSE values are going to make a great feature for detecting seizures.  Now that you've done this for one seizure on one channel, we're going to scale things up a little bit..."
      ]
    },
    {
      "cell_type": "markdown",
      "metadata": {
        "id": "bX64ZHHuvbup"
      },
      "source": [
        "### 4 (15 pts)\n",
        "We're going to deviate from the paper here for simplicity. Instead of using their unsupervised clustering algorithm, we're going to just use the 95th percentile of interictal loss from  as our decision boundary and use it to threshold the mean MSE value of new clips to predict ictal (above) or interictal (below)."
      ]
    },
    {
      "cell_type": "markdown",
      "metadata": {
        "id": "H1AueXd_Z6QF"
      },
      "source": [
        "#### 4a\n",
        "To evaluate our model on it's ability to determine if any given one second clip comes from a seizure or is interictal, we need to write a new prediction function that converts an input clip into an ictal/interictal classifier. Try it out on the ictal clip from the previous question - it should predict Ictal! (3 pts)"
      ]
    },
    {
      "cell_type": "code",
      "execution_count": null,
      "metadata": {
        "id": "rtacJRNJLdJJ"
      },
      "outputs": [],
      "source": [
        "def clf(clip, model=model, threshold=np.percentile(inter_mse,95)):\n",
        "    j = len(clip)-(train_win+1)\n",
        "    data_mat = torch.tensor(hankel(clip[:j],clip[j:])).unsqueeze(2)\n",
        "\n",
        "    with torch.no_grad():\n",
        "        model.eval()\n",
        "        inputs = data_mat[:,:-1,:].float()\n",
        "        targets = data_mat[:,-1,:].float()\n",
        "        if torch.cuda.is_available():\n",
        "            inputs = inputs.cuda()\n",
        "            targets = targets.cuda()\n",
        "        outputs = model(inputs)\n",
        "        mse = criterion(outputs, targets)\n",
        "\n",
        "    return mse.item() > threshold"
      ]
    },
    {
      "cell_type": "code",
      "execution_count": null,
      "metadata": {
        "colab": {
          "base_uri": "https://localhost:8080/"
        },
        "id": "OJ6PZddGokBz",
        "outputId": "d3c5b893-fb1c-44bc-d1b7-49903e07550b"
      },
      "outputs": [],
      "source": [
        "clf(ictal)"
      ]
    },
    {
      "cell_type": "markdown",
      "metadata": {
        "id": "HIWDfDGKiq1V"
      },
      "source": [
        "Now that we can generate predictions on a new clip, let's formulate our machine learning problem. We're going to be trying to classify ictal vs. interictal on the `LC01` channel for `HUP235_phaseII` across all seven of their seizures. To create a balanced dataset for evaluating our model we need to have equal numbers of interictal and ictal clips. What are some limitations to using equal numbers of seizure and normal data when we think about translating this algorithm to an implanted device? (2 pts)."
      ]
    },
    {
      "cell_type": "code",
      "execution_count": null,
      "metadata": {
        "id": "54I--xZQaDIf"
      },
      "outputs": [],
      "source": [
        "# Your answer here"
      ]
    },
    {
      "cell_type": "markdown",
      "metadata": {
        "id": "7lwc34PTrdXT"
      },
      "source": [
        "\n",
        "#### 4b\n",
        "Because the seizures are not an even number of seconds (it would be weird if they were), we're going to round down to the nearest integer number of seconds for each seizure (16.57s -> 16s -> 16 clips).\n",
        "\n",
        "Now, using all of the tools/lines of code from the previous questions, make two seperate matrices, one for interictal and one for ictal clips. The dimensions of the tensors should be num_clips x clip samples. You should include all of the 1 second clips from every seizure and every matched interictal period. Remember to follow all of the signal preprocessing steps! (6 pts)"
      ]
    },
    {
      "cell_type": "code",
      "execution_count": null,
      "metadata": {
        "id": "Bsr05Edgr1nA"
      },
      "outputs": [],
      "source": [
        "ictal_clips = []\n",
        "inter_clips = []\n",
        "for i,row in seizure_times.iterrows():\n",
        "    ictal = ds.get_data(row.Onset*1e6,np.floor(row.Offset-row.Onset)*1e6,[chn_labels.index('LB01')])\n",
        "    dfs = fs/2\n",
        "    ictal = sc.signal.decimate(ictal.T,2).T\n",
        "    ictal_mat = np.reshape(ictal,(-1,int(1*dfs)))\n",
        "    ictal_clips.append(ictal_mat)\n",
        "\n",
        "    inter = ds.get_data(row.Interictal*1e6,np.floor(row.Offset-row.Onset)*1e6,[chn_labels.index('LB01')])\n",
        "    inter = sc.signal.decimate(inter.T,2).T\n",
        "    inter_clips.append(np.reshape(inter,(-1,int(1*dfs))))\n",
        "ictal_clips = np.vstack(ictal_clips)\n",
        "inter_clips = np.vstack(inter_clips)"
      ]
    },
    {
      "cell_type": "markdown",
      "metadata": {
        "id": "8_UsxiGEHOBt"
      },
      "source": [
        "We need to turn our ictal and interictal clips into a dataset that we can use to evaluate the capabilities of our model. Combine them into one matrix, and create a vector with the same number of rows that contains the target labels for each clip (1 for ictal, 0 for interictal). (1 pts)"
      ]
    },
    {
      "cell_type": "code",
      "execution_count": null,
      "metadata": {
        "id": "VHcxAiHsDE2T"
      },
      "outputs": [],
      "source": [
        "val_data = np.vstack([ictal_clips,inter_clips])\n",
        "val_targets = np.vstack((np.ones((len(ictal_clips),1),dtype=bool),np.zeros((len(inter_clips),1),dtype=bool)))"
      ]
    },
    {
      "cell_type": "code",
      "execution_count": null,
      "metadata": {
        "colab": {
          "base_uri": "https://localhost:8080/"
        },
        "id": "7UDf8kT0DeOz",
        "outputId": "2a239abc-e27b-4d0f-f973-310810a9b9be"
      },
      "outputs": [],
      "source": [
        "val_data.shape"
      ]
    },
    {
      "cell_type": "markdown",
      "metadata": {
        "id": "UmjQZWGjakBl"
      },
      "source": [
        "#### 4c\n",
        "Now, generate predictions on your new testing dataset. This might take a while (~1-2 min if you do one prediction at a time without a GPU, ~20 seconds with GPU) so use tqdm to print how long the prediction will take (1 pts)."
      ]
    },
    {
      "cell_type": "code",
      "execution_count": null,
      "metadata": {
        "colab": {
          "base_uri": "https://localhost:8080/"
        },
        "id": "zL8GLjQ3LO0G",
        "outputId": "9d74c9e3-5ed0-4105-ad30-df735e8d2851"
      },
      "outputs": [],
      "source": [
        "preds = np.zeros((len(val_targets),1))\n",
        "for i in tqdm(range(len(val_data))):\n",
        "  preds[i] = clf(val_data[i,:])"
      ]
    },
    {
      "cell_type": "markdown",
      "metadata": {
        "id": "fhsID90YOBj8"
      },
      "source": [
        "Print out the Accuracy, Precision, and Recall of our classifier as well as plotting the confusion matrix (2 pts)"
      ]
    },
    {
      "cell_type": "code",
      "execution_count": null,
      "metadata": {
        "id": "2zhID0rFOySl"
      },
      "outputs": [],
      "source": [
        "accuracy = lambda x,y: np.sum(x==y)/len(x)"
      ]
    },
    {
      "cell_type": "code",
      "execution_count": null,
      "metadata": {
        "colab": {
          "base_uri": "https://localhost:8080/",
          "height": 517
        },
        "id": "qG9amF0HLmON",
        "outputId": "199c1c9f-eede-43de-95fd-4f737f60ab91"
      },
      "outputs": [],
      "source": [
        "print(f\"Accuracy: {accuracy(val_targets,preds)}\")\n",
        "print(f\"Precision: {precision_score(val_targets,preds)}\")\n",
        "print(f\"Recall: {recall_score(val_targets,preds)}\")\n",
        "\n",
        "ConfusionMatrixDisplay(confusion_matrix(val_targets,preds)).plot(cmap = 'plasma')"
      ]
    },
    {
      "cell_type": "markdown",
      "metadata": {
        "id": "lLMzy5qdN84i"
      },
      "source": [
        "You can see from the confusion matrix and the metrics that we calculate that our classifier is very good at detecting seizures (high sensitivity), but not very good at discriminating high loss interictal clips from seizures. Why might this be the case? (2 pts)"
      ]
    },
    {
      "cell_type": "code",
      "execution_count": null,
      "metadata": {
        "id": "HyPViWnrL-ZH"
      },
      "outputs": [],
      "source": [
        "# Your answer here"
      ]
    },
    {
      "cell_type": "markdown",
      "metadata": {
        "id": "Y8IbV0qbRS9c"
      },
      "source": [
        "### 5 (10 pts)\n",
        "Now comes the fun part! Throughout this homework you've learned how to format data for autoregression, build deep learning models, and train and test an LSTM for seizure detection. How you approach this last part of the homework is up to you, but your goal is to try a new method that iterates on the framework we've provided and evaluate it using the testing dataset that we built in 4b.\n",
        "\n",
        "The Goal: Maximize accuracy and precision while minimizing training data and computational complexity.\n",
        "\n",
        "The Rules:\n",
        "* You cannot use any of the data (ictal or interictal clips) that we use to test the model in the previous section to train your model\n",
        "* You cannot use ANY ictal data to train the model\n",
        "* The model must be trained in an unsupervised manner\n",
        "* The rest is up to you!\n",
        "\n",
        "Write a paragraph describing your proposed method (4 pts). Then, implement your algorithm and print out the accuracy, precision, and recall of your final model. (6 pts + 1 pt Extra Credit for every improved percentage point).\n"
      ]
    },
    {
      "cell_type": "code",
      "execution_count": null,
      "metadata": {
        "id": "rtmYcrWcRSQz"
      },
      "outputs": [],
      "source": []
    }
  ],
  "metadata": {
    "colab": {
      "provenance": []
    },
    "kernelspec": {
      "display_name": "Python 3",
      "name": "python3"
    },
    "language_info": {
      "codemirror_mode": {
        "name": "ipython",
        "version": 3
      },
      "file_extension": ".py",
      "mimetype": "text/x-python",
      "name": "python",
      "nbconvert_exporter": "python",
      "pygments_lexer": "ipython3",
      "version": "3.10.13"
    }
  },
  "nbformat": 4,
  "nbformat_minor": 0
}
